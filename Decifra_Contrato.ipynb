{
  "nbformat": 4,
  "nbformat_minor": 0,
  "metadata": {
    "colab": {
      "provenance": [],
      "include_colab_link": true
    },
    "kernelspec": {
      "name": "python3",
      "display_name": "Python 3"
    },
    "language_info": {
      "name": "python"
    }
  },
  "cells": [
    {
      "cell_type": "markdown",
      "metadata": {
        "id": "view-in-github",
        "colab_type": "text"
      },
      "source": [
        "<a href=\"https://colab.research.google.com/github/William-Schwarz/Decifra-Contrato/blob/william_ds/Decifra_Contrato.ipynb\" target=\"_parent\"><img src=\"https://colab.research.google.com/assets/colab-badge.svg\" alt=\"Open In Colab\"/></a>"
      ]
    },
    {
      "cell_type": "code",
      "source": [
        "\n",
        "!pip -q install google-genai google-adk PyPDF2 python-docx"
      ],
      "metadata": {
        "id": "UCCbECexLk_h"
      },
      "execution_count": 145,
      "outputs": []
    },
    {
      "cell_type": "code",
      "source": [
        "import os\n",
        "from google.api_core import exceptions\n",
        "from google.colab import userdata\n",
        "from google import genai\n",
        "from google.colab import files\n",
        "from google.adk.agents import Agent\n",
        "from google.adk.runners import Runner\n",
        "from google.adk.sessions import InMemorySessionService\n",
        "from google.adk.tools import google_search\n",
        "from google.genai import types\n",
        "from datetime import date\n",
        "import textwrap\n",
        "from IPython.display import display, Markdown\n",
        "import requests\n",
        "import warnings\n",
        "import PyPDF2\n",
        "\n",
        "warnings.filterwarnings(\"ignore\")"
      ],
      "metadata": {
        "id": "59aVr1l3KF7o"
      },
      "execution_count": 146,
      "outputs": []
    },
    {
      "cell_type": "code",
      "source": [
        "# Configura a API Key do Google Gemini\n",
        "try:\n",
        "    os.environ[\"GOOGLE_API_KEY\"] = userdata.get('GOOGLE_API_KEY')\n",
        "except Exception as e:\n",
        "    print(f\"⚠️ Erro ao configurar a chave da API do Google Gemini: {e}\")\n",
        "    exit()"
      ],
      "metadata": {
        "id": "NfCqHo1tLk8P"
      },
      "execution_count": 147,
      "outputs": []
    },
    {
      "cell_type": "code",
      "source": [
        "# Configura o cliente da SDK do Gemini\n",
        "try:\n",
        "    client = genai.Client()\n",
        "    MODEL_ID = \"gemini-2.0-flash\"\n",
        "except Exception as e:\n",
        "    print(f\"⚠️ Erro ao inicializar o cliente Gemini: {e}\")\n",
        "    exit()"
      ],
      "metadata": {
        "id": "bV4w0H5TLk5g"
      },
      "execution_count": 148,
      "outputs": []
    },
    {
      "cell_type": "code",
      "execution_count": 149,
      "metadata": {
        "id": "aePV2bdfDeoW"
      },
      "outputs": [],
      "source": [
        "# Função auxiliar que envia uma mensagem para um agente via Runner e retorna a resposta final\n",
        "def call_agent(agent: Agent, message_text: str) -> str:\n",
        "    session_service = InMemorySessionService()\n",
        "    session = session_service.create_session(app_name=agent.name, user_id=\"user1\", session_id=\"session1\")\n",
        "    runner = Runner(agent=agent, app_name=agent.name, session_service=session_service)\n",
        "    content = types.Content(role=\"user\", parts=[types.Part(text=message_text)])\n",
        "\n",
        "    final_response = \"\"\n",
        "    try:\n",
        "        for event in runner.run(user_id=\"user1\", session_id=\"session1\", new_message=content):\n",
        "            if event.is_final_response():\n",
        "                for part in event.content.parts:\n",
        "                    if part.text is not None:\n",
        "                        final_response += part.text\n",
        "                        final_response += \"\\n\"\n",
        "    except exceptions.ServiceUnavailable as e:\n",
        "        return f\"⚠️ Serviço indisponível ao comunicar com o agente '{agent.name}'. Por favor, tente novamente mais tarde. Detalhes: {e}\"\n",
        "    except exceptions.InvalidArgument as e:\n",
        "        return f\"⚠️ Argumento inválido fornecido ao agente '{agent.name}'. Verifique a entrada. Detalhes: {e}\"\n",
        "    except Exception as e:\n",
        "        return f\"⚠️ Erro ao comunicar com o agente '{agent.name}': {e}\"\n",
        "    return final_response"
      ]
    },
    {
      "cell_type": "code",
      "source": [
        "# Função auxiliar que faz a leitura do arquivo\n",
        "def ler_arquivo(nome_arquivo):\n",
        "    try:\n",
        "        if nome_arquivo.endswith(\".pdf\"):\n",
        "            with open(nome_arquivo, 'rb') as file:\n",
        "                try:\n",
        "                    reader = PyPDF2.PdfReader(file)\n",
        "                    text = \"\"\n",
        "                    for page_num in range(len(reader.pages)):\n",
        "                        page = reader.pages[page_num]\n",
        "                        text += page.extract_text()\n",
        "                    return text\n",
        "                except Exception as e:\n",
        "                    return f\"⚠️ Erro ao ler o conteúdo do arquivo PDF '{nome_arquivo}': {e}\"\n",
        "        elif nome_arquivo.endswith(\".docx\"):\n",
        "            try:\n",
        "                from docx import Document\n",
        "                document = Document(nome_arquivo)\n",
        "                text = \"\"\n",
        "                for paragraph in document.paragraphs:\n",
        "                    text += paragraph.text + \"\\n\"\n",
        "                return text\n",
        "            except ImportError:\n",
        "                return \"⚠️ A biblioteca 'python-docx' não está instalada. Por favor, instale-a com: pip install python-docx\"\n",
        "            except Exception as e:\n",
        "                return f\"⚠️ Erro ao ler o conteúdo do arquivo DOCX '{nome_arquivo}': {e}\"\n",
        "        elif nome_arquivo.endswith(\".txt\"):\n",
        "            with open(nome_arquivo, 'r', encoding='utf-8') as file:\n",
        "                return file.read()\n",
        "        else:\n",
        "            return \"⚠️ Formato de arquivo não suportado. Por favor, envie um arquivo .pdf, .docx ou .txt.\"\n",
        "    except FileNotFoundError:\n",
        "        return f\"⚠️ Erro: Arquivo '{nome_arquivo}' não encontrado.\"\n",
        "    except Exception as e:\n",
        "        return f\"⚠️ Erro ao processar o arquivo '{nome_arquivo}': {e}\""
      ],
      "metadata": {
        "id": "_xP4lWhsS5ko"
      },
      "execution_count": 150,
      "outputs": []
    },
    {
      "cell_type": "code",
      "source": [
        "# Função auxiliar para exibir texto formatado em Markdown no Colab\n",
        "def to_markdown(text):\n",
        "    text = text.replace('•', '  *')\n",
        "    return Markdown(textwrap.indent(text, '> ', predicate=lambda _: True))"
      ],
      "metadata": {
        "id": "XTfWqEQN-t_-"
      },
      "execution_count": 151,
      "outputs": []
    },
    {
      "cell_type": "code",
      "source": [
        "# Agente 1: Receptor e Extrator de Contrato\n",
        "def agente_receptor():\n",
        "    receptor = Agent(\n",
        "        name=\"agente_receptor\",\n",
        "        model=MODEL_ID,\n",
        "        instruction=\"\"\"\n",
        "        Você é o agente inicial do sistema Decifra-Contrato. Sua tarefa é receber o contrato fornecido pelo usuário.\n",
        "        Este contrato pode ser um texto diretamente inserido ou o conteúdo de um arquivo.\n",
        "\n",
        "        Uma vez que o contrato é fornecido, sua principal função é extrair o texto completo e limpo do contrato.\n",
        "        Remova qualquer formatação desnecessária que possa dificultar a análise posterior (como quebras de linha excessivas, numerações automáticas, etc.).\n",
        "\n",
        "        Se o usuário fornecer informações adicionais sobre o tipo de contrato (por exemplo, \"contrato de aluguel\", \"termo de serviço\"), anote essa informação para auxiliar os próximos agentes.\n",
        "\n",
        "        Ao final, entregue o texto puro do contrato para o próximo agente.\n",
        "        \"\"\",\n",
        "        description=\"Agente que recebe e extrai o texto do contrato.\"\n",
        "    )\n",
        "    return receptor"
      ],
      "metadata": {
        "id": "o8bqIfi_DyH8"
      },
      "execution_count": 152,
      "outputs": []
    },
    {
      "cell_type": "code",
      "source": [
        "# Agente 2: Identificador de Jargões\n",
        "def agente_identificador():\n",
        "    identificador = Agent(\n",
        "        name=\"agente_identificador\",\n",
        "        model=MODEL_ID,\n",
        "        instruction=\"\"\"\n",
        "        Você é um especialista em identificar jargões jurídicos e termos técnicos dentro de um texto de contrato.\n",
        "        Sua tarefa é analisar o texto do contrato fornecido e listar todos os termos que provavelmente seriam desconhecidos por uma pessoa leiga.\n",
        "\n",
        "        Considere termos como: latim jurídico (e.g., 'ad hoc'), termos técnicos específicos da área do contrato (e.g., em um contrato de tecnologia, 'API', 'SaaS'), e cláusulas com redação complexa.\n",
        "\n",
        "        Apresente a lista de jargões identificados de forma clara e concisa para o próximo agente.\n",
        "        \"\"\",\n",
        "        description=\"Agente que identifica jargões jurídicos e técnicos.\"\n",
        "    )\n",
        "    return identificador"
      ],
      "metadata": {
        "id": "y3VO1uo5_ghO"
      },
      "execution_count": 153,
      "outputs": []
    },
    {
      "cell_type": "code",
      "source": [
        "# Agente 3: Explicador de Termos\n",
        "def agente_explicador(google_search):\n",
        "    explicador = Agent(\n",
        "        name=\"agente_explicador\",\n",
        "        model=MODEL_ID,\n",
        "        instruction=\"\"\"\n",
        "        Você é um especialista em explicar termos jurídicos e técnicos de forma clara e acessível para pessoas leigas.\n",
        "        Você receberá uma lista de jargões identificados em um contrato.\n",
        "\n",
        "        Para cada termo da lista, sua tarefa é fornecer uma explicação concisa e em linguagem simples.\n",
        "        Se necessário, utilize a ferramenta de busca do Google (google_search) para encontrar definições e explicações adequadas.\n",
        "\n",
        "        Tente fornecer exemplos práticos ou analogias para facilitar a compreensão.\n",
        "\n",
        "        Apresente cada termo seguido de sua explicação de forma clara e organizada.\n",
        "        \"\"\",\n",
        "        description=\"Agente que explica jargões jurídicos e técnicos para leigos.\",\n",
        "        tools=[google_search]\n",
        "    )\n",
        "    return explicador"
      ],
      "metadata": {
        "id": "uOqlg2TRLVh1"
      },
      "execution_count": 154,
      "outputs": []
    },
    {
      "cell_type": "code",
      "source": [
        "# Agente 4: Resumidor e Destacador de Pontos Chave\n",
        "def agente_resumidor():\n",
        "    resumidor = Agent(\n",
        "        name=\"agente_resumidor\",\n",
        "        model=MODEL_ID,\n",
        "        instruction=\"\"\"\n",
        "        Você é um especialista em resumir contratos e destacar os pontos mais importantes para uma pessoa leiga.\n",
        "        Com base no texto completo do contrato, sua tarefa é gerar um resumo conciso, com linguagem simples e direta.\n",
        "\n",
        "        Além do resumo, identifique e liste as cláusulas ou pontos que são cruciais para o entendimento do usuário, como:\n",
        "        - Objeto do contrato\n",
        "        - Obrigações das partes\n",
        "        - Prazos e condições\n",
        "        - Formas de pagamento (se aplicável)\n",
        "        - Condições de rescisão\n",
        "        - Penalidades (se houver)\n",
        "\n",
        "        Apresente o resumo e os pontos chave de forma clara e organizada, utilizando marcadores ou listas para facilitar a leitura.\n",
        "        \"\"\",\n",
        "        description=\"Agente que resume contratos e destaca pontos chave.\"\n",
        "    )\n",
        "    return resumidor"
      ],
      "metadata": {
        "id": "_aTb1SdkLeT6"
      },
      "execution_count": 155,
      "outputs": []
    },
    {
      "cell_type": "code",
      "source": [
        "print(\"📜🧐 Iniciando o Sistema Decifra-Contrato (com suporte a arquivos) 📜🧐\")\n",
        "\n",
        "contrato_texto = \"\"\n",
        "while True:\n",
        "    opcao = input(\"❓ Deseja colar o texto do contrato (digite 'texto') ou carregar um arquivo (digite 'arquivo')? \").lower()\n",
        "    if opcao in ['texto', 'arquivo']:\n",
        "        break\n",
        "    else:\n",
        "        print(\"\\n⚠️ Opção inválida. Por favor, digite 'texto' ou 'arquivo'.\")\n",
        "\n",
        "if opcao == 'texto':\n",
        "    contrato_texto = input(\"Cole o texto do contrato aqui: \")\n",
        "elif opcao == 'arquivo':\n",
        "    try:\n",
        "        uploaded = files.upload()\n",
        "        if uploaded:\n",
        "            nome_arquivo = list(uploaded.keys())[0]\n",
        "            contrato_texto = ler_arquivo(nome_arquivo)\n",
        "            if isinstance(contrato_texto, str) and contrato_texto.startswith(\"⚠️\"):\n",
        "                print(f\"\\n{contrato_texto}\")\n",
        "                contrato_texto = \"\"\n",
        "            else:\n",
        "                print(f\"\\nArquivo '{nome_arquivo}' lido com sucesso.\")\n",
        "        else:\n",
        "            print(\"\\n⚠️ Nenhum arquivo foi carregado.\")\n",
        "    except Exception as e:\n",
        "        print(f\"\\n⚠️ Ocorreu um erro ao carregar o arquivo: {e}\")\n",
        "        contrato_texto = \"\"\n",
        "\n",
        "# Executa o pipeline, independente da origem do texto\n",
        "if contrato_texto:\n",
        "    try:\n",
        "        receptor = agente_receptor()\n",
        "        identificador = agente_identificador()\n",
        "        explicador = agente_explicador(google_search)\n",
        "        resumidor = agente_resumidor()\n",
        "    except Exception as e:\n",
        "        print(f\"⚠️ Erro ao inicializar os agentes: {e}\")\n",
        "        contrato_texto = \"\"\n",
        "\n",
        "if contrato_texto:\n",
        "    display(Markdown(\"## ✨ Processando...\"))\n",
        "    texto_contrato_extraido = call_agent(receptor, contrato_texto)\n",
        "    if texto_contrato_extraido.startswith(\"⚠️\"):\n",
        "        display(Markdown(f\"### ⚠️ Extração: <span style='color:orange'>{texto_contrato_extraido}</span>\"))\n",
        "    else:\n",
        "        display(Markdown(\"### 📝 Contrato Extraído\"))\n",
        "        display(to_markdown(texto_contrato_extraido))\n",
        "\n",
        "        jargoes_identificados = call_agent(identificador, texto_contrato_extraido)\n",
        "        display(Markdown(\"### 🔎 Jargões\"))\n",
        "        display(to_markdown(jargoes_identificados))\n",
        "\n",
        "        explicacoes_termos = call_agent(explicador, jargoes_identificados)\n",
        "        display(Markdown(\"### 💡 Explicações\"))\n",
        "        display(to_markdown(explicacoes_termos))\n",
        "\n",
        "        resumo_contrato = call_agent(resumidor, texto_contrato_extraido)\n",
        "        display(Markdown(\"### 📚 Resumo\"))\n",
        "        display(to_markdown(resumo_contrato))\n",
        "\n",
        "        display(Markdown(\"## ✅ Análise Concluída!\"))"
      ],
      "metadata": {
        "colab": {
          "base_uri": "https://localhost:8080/",
          "height": 1000
        },
        "id": "6xzI6LKzxxnN",
        "outputId": "f7531471-d1f1-41cf-d603-5db949b174bc"
      },
      "execution_count": 162,
      "outputs": [
        {
          "name": "stdout",
          "output_type": "stream",
          "text": [
            "📜🧐 Iniciando o Sistema Decifra-Contrato (com suporte a arquivos) 📜🧐\n",
            "❓ Deseja colar o texto do contrato (digite 'texto') ou carregar um arquivo (digite 'arquivo')? texto\n",
            "Cole o texto do contrato aqui: CLÁUSULA\tPRIMEIRA\t- DO\tOBJETO\tE\tDAS\tOBRIGAÇÕES Tendo\tem\tvista\to\troteiro\te\ta\tconcepção\tartística\tdo\tmencionado\tfilme,\to\tCONTRATANTE\t contrata\to\tCONTRATADO\tpara\tprestar-lhe\tos\tserviços\tde\ttécnico\tcinematográfico\tna\tfunção\tde\t _____________________________________. 1.1\tA\tfim\tde\tgarantir\ta\tboa\texecução\tdo\ttrabalho,\to\tCONTRATADO\tcompromete-se,\tpor\teste\t ato,\ta\tobservar\te\tcumprir\to\tcronograma\tde\tatividades\tda\treferida obra.\t 1.2\tO\tCONTRATADO\tassume\tas\tresponsabilidades\tinerentes\ta\tsua\tfunção\tno\tfilme\te\tse\tdispõe\ta\t realizá-la\tde\tacordo\tcom\to\tque\tfor\trequerido\tpela\tdireção\te\tprodução\tda\tobra.\t 1.3\tO\tCONTRATADO\tcede,\tpor\tprazo\tindeterminado\te\tde\tforma\tirretratável\te\tirrenunciável\t para\to\tCONTRATANTE,\ttodos\tos\tdireitos\tpatrimoniais\te\tconexos\trelativos\tao\tseu\ttrabalho\tna\t citada\tobra,\tque\tpossam\tser\tauferidos\tpor\tqualquer\tutilização\tdo\tfilme,\tno\tBrasil\te\tno\texterior,\t para\tfins\tcomerciais\tou\tnão,\tincluindo\ta\treprodução,\tgravação,\tpromoção\te\tdivulgação\tda\tobra,\t nos\tmeios\taudiovisuais\tcompetentes\texistentes\te\ta\tserem\tcriados.\t\n"
          ]
        },
        {
          "output_type": "display_data",
          "data": {
            "text/plain": [
              "<IPython.core.display.Markdown object>"
            ],
            "text/markdown": "## ✨ Processando..."
          },
          "metadata": {}
        },
        {
          "output_type": "display_data",
          "data": {
            "text/plain": [
              "<IPython.core.display.Markdown object>"
            ],
            "text/markdown": "### 📝 Contrato Extraído"
          },
          "metadata": {}
        },
        {
          "output_type": "display_data",
          "data": {
            "text/plain": [
              "<IPython.core.display.Markdown object>"
            ],
            "text/markdown": "> CLÁUSULA PRIMEIRA - DO OBJETO E DAS OBRIGAÇÕES Tendo em vista o roteiro e a concepção artística do mencionado filme, o CONTRATANTE contrata o CONTRATADO para prestar-lhe os serviços de técnico cinematográfico na função de _____________________________________. \n> 1.1 A fim de garantir a boa execução do trabalho, o CONTRATADO compromete-se, por este ato, a observar e cumprir o cronograma de atividades da referida obra. \n> 1.2 O CONTRATADO assume as responsabilidades inerentes a sua função no filme e se dispõe a realizá-la de acordo com o que for requerido pela direção e produção da obra. \n> 1.3 O CONTRATADO cede, por prazo indeterminado e de forma irretratável e irrenunciável para o CONTRATANTE, todos os direitos patrimoniais e conexos relativos ao seu trabalho na citada obra, que possam ser auferidos por qualquer utilização do filme, no Brasil e no exterior, para fins comerciais ou não, incluindo a reprodução, gravação, promoção e divulgação da obra, nos meios audiovisuais competentes existentes e a serem criados.\n> \n"
          },
          "metadata": {}
        },
        {
          "output_type": "display_data",
          "data": {
            "text/plain": [
              "<IPython.core.display.Markdown object>"
            ],
            "text/markdown": "### 🔎 Jargões"
          },
          "metadata": {}
        },
        {
          "output_type": "display_data",
          "data": {
            "text/plain": [
              "<IPython.core.display.Markdown object>"
            ],
            "text/markdown": "> *   **CONTRATANTE/CONTRATADO:** Termos genéricos para as partes envolvidas em um contrato.\n> *   **Direitos patrimoniais e conexos:** Refere-se aos direitos de propriedade intelectual relacionados à obra, incluindo os direitos do autor e outros direitos relacionados, como os de intérpretes e produtores.\n> *   **Prazo indeterminado:** Significa que o período de tempo não é fixo ou predeterminado.\n> *   **De forma irretratável e irrenunciável:** Indica que a cessão dos direitos não pode ser desfeita ou renunciada pelas partes.\n> *   **Meios audiovisuais competentes existentes e a serem criados:** Refere-se a todos os meios de comunicação que utilizam áudio e vídeo, tanto os que existem atualmente quanto os que podem ser desenvolvidos no futuro.\n> *   **Inerentes:** Que faz parte da natureza de algo; próprio, intrínseco.\n> *   **Roteiro e a concepção artística:** O plano detalhado da história e a visão criativa por trás do filme.\n> *   **Cronograma de atividades:** O plano detalhado das atividades a serem realizadas e os prazos para sua conclusão.\n"
          },
          "metadata": {}
        },
        {
          "output_type": "display_data",
          "data": {
            "text/plain": [
              "<IPython.core.display.Markdown object>"
            ],
            "text/markdown": "### 💡 Explicações"
          },
          "metadata": {}
        },
        {
          "output_type": "display_data",
          "data": {
            "text/plain": [
              "<IPython.core.display.Markdown object>"
            ],
            "text/markdown": "> Aqui estão as explicações dos termos jurídicos e técnicos, de forma clara e acessível:\n> \n> *   **CONTRATANTE/CONTRATADO:** São os nomes genéricos que usamos para identificar as pessoas ou empresas que assinam um contrato. O \"CONTRATANTE\" é quem está pagando por um serviço ou produto, e o \"CONTRATADO\" é quem está oferecendo esse serviço ou produto. Imagine que você está contratando um pedreiro para reformar sua casa: você é o CONTRATANTE, e o pedreiro é o CONTRATADO.\n> \n> *   **Direitos patrimoniais e conexos:** Pense nos \"direitos patrimoniais\" como a capacidade de ganhar dinheiro com a sua criação, como um livro ou uma música. \"Direitos conexos\" são parecidos, mas protegem quem ajuda a levar a criação ao público, como os atores em um filme ou os músicos em uma gravação.\n> \n> *   **Prazo indeterminado:** Significa que não há uma data de término definida para o contrato. Ele continua valendo até que alguma das partes decida encerrá-lo, ou até que algum evento específico aconteça. É como um contrato de aluguel sem data para acabar.\n> \n> *   **De forma irretratável e irrenunciável:** Isso quer dizer que, uma vez que você concordou com algo no contrato, não pode voltar atrás (irretratável) nem abrir mão desse acordo (irrenunciável). É como se você vendesse sua casa e prometesse nunca mais reivindicá-la.\n> \n> *   **Meios audiovisuais competentes existentes e a serem criados:** Refere-se a todas as formas de comunicação que usam som e imagem, como cinema, televisão, internet, e até tecnologias que ainda nem foram inventadas.\n> \n> *   **Inerentes:** Significa que algo é essencial e faz parte da natureza de outra coisa. Por exemplo, a capacidade de voar é inerente aos pássaros.\n> \n> *   **Roteiro e a concepção artística:** O \"roteiro\" é como um mapa detalhado da história que será contada em um filme, série ou peça. A \"concepção artística\" é a visão geral de como o filme deve ser, incluindo a estética, o estilo e a mensagem que se quer transmitir.\n> \n> *   **Cronograma de atividades:** É um plano que mostra todas as tarefas que precisam ser feitas, em que ordem e em quanto tempo. Pense nele como um calendário detalhado de um projeto, mostrando quem faz o quê e quando.\n> \n"
          },
          "metadata": {}
        },
        {
          "output_type": "display_data",
          "data": {
            "text/plain": [
              "<IPython.core.display.Markdown object>"
            ],
            "text/markdown": "### 📚 Resumo"
          },
          "metadata": {}
        },
        {
          "output_type": "display_data",
          "data": {
            "text/plain": [
              "<IPython.core.display.Markdown object>"
            ],
            "text/markdown": "> ## Resumo do Contrato\n> \n> Este contrato estabelece que você (CONTRATADO) foi contratado para trabalhar como técnico cinematográfico na função de [sua função] em um filme. Você deverá seguir o cronograma do filme e realizar suas tarefas conforme solicitado pela direção e produção. Além disso, você cede ao CONTRATANTE todos os direitos sobre seu trabalho no filme, permitindo que ele utilize a obra como quiser, sem limite de tempo.\n> \n> ## Pontos Chave do Contrato\n> \n> *   **Objeto do Contrato:** Prestação de serviços como técnico cinematográfico na função de [sua função] no filme.\n> *   **Obrigações do CONTRATADO:**\n>     *   Cumprir o cronograma de atividades do filme.\n>     *   Realizar as tarefas de acordo com as instruções da direção e produção.\n>     *   Ceder todos os direitos patrimoniais e conexos relativos ao seu trabalho no filme para o CONTRATANTE.\n> *   **Prazos e Condições:** O contrato não especifica um prazo determinado, mas a cessão de direitos é por prazo indeterminado.\n> *   **Cessão de Direitos:** Você abre mão de todos os direitos sobre seu trabalho no filme, permitindo que o CONTRATANTE utilize a obra como desejar, sem precisar de sua autorização.\n"
          },
          "metadata": {}
        },
        {
          "output_type": "display_data",
          "data": {
            "text/plain": [
              "<IPython.core.display.Markdown object>"
            ],
            "text/markdown": "## ✅ Análise Concluída!"
          },
          "metadata": {}
        }
      ]
    }
  ]
}