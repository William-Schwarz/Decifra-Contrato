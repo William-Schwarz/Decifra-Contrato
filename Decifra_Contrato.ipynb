{
  "nbformat": 4,
  "nbformat_minor": 0,
  "metadata": {
    "colab": {
      "provenance": [],
      "include_colab_link": true
    },
    "kernelspec": {
      "name": "python3",
      "display_name": "Python 3"
    },
    "language_info": {
      "name": "python"
    }
  },
  "cells": [
    {
      "cell_type": "markdown",
      "metadata": {
        "id": "view-in-github",
        "colab_type": "text"
      },
      "source": [
        "<a href=\"https://colab.research.google.com/github/William-Schwarz/Decifra-Contrato/blob/william_ds/Decifra_Contrato.ipynb\" target=\"_parent\"><img src=\"https://colab.research.google.com/assets/colab-badge.svg\" alt=\"Open In Colab\"/></a>"
      ]
    },
    {
      "cell_type": "code",
      "source": [
        "\n",
        "!pip -q install google-genai google-adk PyPDF2 python-docx"
      ],
      "metadata": {
        "id": "UCCbECexLk_h"
      },
      "execution_count": 145,
      "outputs": []
    },
    {
      "cell_type": "code",
      "source": [
        "import os\n",
        "from google.api_core import exceptions\n",
        "from google.colab import userdata\n",
        "from google import genai\n",
        "from google.colab import files\n",
        "from google.adk.agents import Agent\n",
        "from google.adk.runners import Runner\n",
        "from google.adk.sessions import InMemorySessionService\n",
        "from google.adk.tools import google_search\n",
        "from google.genai import types\n",
        "from datetime import date\n",
        "import textwrap\n",
        "from IPython.display import display, Markdown\n",
        "import requests\n",
        "import warnings\n",
        "import PyPDF2\n",
        "\n",
        "warnings.filterwarnings(\"ignore\")"
      ],
      "metadata": {
        "id": "59aVr1l3KF7o"
      },
      "execution_count": 146,
      "outputs": []
    },
    {
      "cell_type": "code",
      "source": [
        "# Configura a API Key do Google Gemini\n",
        "try:\n",
        "    os.environ[\"GOOGLE_API_KEY\"] = userdata.get('GOOGLE_API_KEY')\n",
        "except Exception as e:\n",
        "    print(f\"⚠️ Erro ao configurar a chave da API do Google Gemini: {e}\")\n",
        "    exit()"
      ],
      "metadata": {
        "id": "NfCqHo1tLk8P"
      },
      "execution_count": 147,
      "outputs": []
    },
    {
      "cell_type": "code",
      "source": [
        "# Configura o cliente da SDK do Gemini\n",
        "try:\n",
        "    client = genai.Client()\n",
        "    MODEL_ID = \"gemini-2.0-flash\"\n",
        "except Exception as e:\n",
        "    print(f\"⚠️ Erro ao inicializar o cliente Gemini: {e}\")\n",
        "    exit()"
      ],
      "metadata": {
        "id": "bV4w0H5TLk5g"
      },
      "execution_count": 148,
      "outputs": []
    },
    {
      "cell_type": "code",
      "execution_count": 149,
      "metadata": {
        "id": "aePV2bdfDeoW"
      },
      "outputs": [],
      "source": [
        "# Função auxiliar que envia uma mensagem para um agente via Runner e retorna a resposta final\n",
        "def call_agent(agent: Agent, message_text: str) -> str:\n",
        "    session_service = InMemorySessionService()\n",
        "    session = session_service.create_session(app_name=agent.name, user_id=\"user1\", session_id=\"session1\")\n",
        "    runner = Runner(agent=agent, app_name=agent.name, session_service=session_service)\n",
        "    content = types.Content(role=\"user\", parts=[types.Part(text=message_text)])\n",
        "\n",
        "    final_response = \"\"\n",
        "    try:\n",
        "        for event in runner.run(user_id=\"user1\", session_id=\"session1\", new_message=content):\n",
        "            if event.is_final_response():\n",
        "                for part in event.content.parts:\n",
        "                    if part.text is not None:\n",
        "                        final_response += part.text\n",
        "                        final_response += \"\\n\"\n",
        "    except exceptions.ServiceUnavailable as e:\n",
        "        return f\"⚠️ Serviço indisponível ao comunicar com o agente '{agent.name}'. Por favor, tente novamente mais tarde. Detalhes: {e}\"\n",
        "    except exceptions.InvalidArgument as e:\n",
        "        return f\"⚠️ Argumento inválido fornecido ao agente '{agent.name}'. Verifique a entrada. Detalhes: {e}\"\n",
        "    except Exception as e:\n",
        "        return f\"⚠️ Erro ao comunicar com o agente '{agent.name}': {e}\"\n",
        "    return final_response"
      ]
    },
    {
      "cell_type": "code",
      "source": [
        "# Função auxiliar que faz a leitura do arquivo\n",
        "def ler_arquivo(nome_arquivo):\n",
        "    try:\n",
        "        if nome_arquivo.endswith(\".pdf\"):\n",
        "            with open(nome_arquivo, 'rb') as file:\n",
        "                try:\n",
        "                    reader = PyPDF2.PdfReader(file)\n",
        "                    text = \"\"\n",
        "                    for page_num in range(len(reader.pages)):\n",
        "                        page = reader.pages[page_num]\n",
        "                        text += page.extract_text()\n",
        "                    return text\n",
        "                except Exception as e:\n",
        "                    return f\"⚠️ Erro ao ler o conteúdo do arquivo PDF '{nome_arquivo}': {e}\"\n",
        "        elif nome_arquivo.endswith(\".docx\"):\n",
        "            try:\n",
        "                from docx import Document\n",
        "                document = Document(nome_arquivo)\n",
        "                text = \"\"\n",
        "                for paragraph in document.paragraphs:\n",
        "                    text += paragraph.text + \"\\n\"\n",
        "                return text\n",
        "            except ImportError:\n",
        "                return \"⚠️ A biblioteca 'python-docx' não está instalada. Por favor, instale-a com: pip install python-docx\"\n",
        "            except Exception as e:\n",
        "                return f\"⚠️ Erro ao ler o conteúdo do arquivo DOCX '{nome_arquivo}': {e}\"\n",
        "        elif nome_arquivo.endswith(\".txt\"):\n",
        "            with open(nome_arquivo, 'r', encoding='utf-8') as file:\n",
        "                return file.read()\n",
        "        else:\n",
        "            return \"⚠️ Formato de arquivo não suportado. Por favor, envie um arquivo .pdf, .docx ou .txt.\"\n",
        "    except FileNotFoundError:\n",
        "        return f\"⚠️ Erro: Arquivo '{nome_arquivo}' não encontrado.\"\n",
        "    except Exception as e:\n",
        "        return f\"⚠️ Erro ao processar o arquivo '{nome_arquivo}': {e}\""
      ],
      "metadata": {
        "id": "_xP4lWhsS5ko"
      },
      "execution_count": 150,
      "outputs": []
    },
    {
      "cell_type": "code",
      "source": [
        "# Função auxiliar para exibir texto formatado em Markdown no Colab\n",
        "def to_markdown(text):\n",
        "    text = text.replace('•', '  *')\n",
        "    return Markdown(textwrap.indent(text, '> ', predicate=lambda _: True))"
      ],
      "metadata": {
        "id": "XTfWqEQN-t_-"
      },
      "execution_count": 151,
      "outputs": []
    },
    {
      "cell_type": "code",
      "source": [
        "# Agente 1: Receptor e Extrator de Contrato\n",
        "def agente_receptor():\n",
        "    receptor = Agent(\n",
        "        name=\"agente_receptor\",\n",
        "        model=MODEL_ID,\n",
        "        instruction=\"\"\"\n",
        "        Você é o agente inicial do sistema Decifra-Contrato. Sua tarefa é receber o contrato fornecido pelo usuário.\n",
        "        Este contrato pode ser um texto diretamente inserido ou o conteúdo de um arquivo.\n",
        "\n",
        "        Uma vez que o contrato é fornecido, sua principal função é extrair o texto completo e limpo do contrato.\n",
        "        Remova qualquer formatação desnecessária que possa dificultar a análise posterior (como quebras de linha excessivas, numerações automáticas, etc.).\n",
        "\n",
        "        Se o usuário fornecer informações adicionais sobre o tipo de contrato (por exemplo, \"contrato de aluguel\", \"termo de serviço\"), anote essa informação para auxiliar os próximos agentes.\n",
        "\n",
        "        Ao final, entregue o texto puro do contrato para o próximo agente.\n",
        "        \"\"\",\n",
        "        description=\"Agente que recebe e extrai o texto do contrato.\"\n",
        "    )\n",
        "    return receptor"
      ],
      "metadata": {
        "id": "o8bqIfi_DyH8"
      },
      "execution_count": 152,
      "outputs": []
    },
    {
      "cell_type": "code",
      "source": [
        "# Agente 2: Identificador de Jargões\n",
        "def agente_identificador():\n",
        "    identificador = Agent(\n",
        "        name=\"agente_identificador\",\n",
        "        model=MODEL_ID,\n",
        "        instruction=\"\"\"\n",
        "        Você é um especialista em identificar jargões jurídicos e termos técnicos dentro de um texto de contrato.\n",
        "        Sua tarefa é analisar o texto do contrato fornecido e listar todos os termos que provavelmente seriam desconhecidos por uma pessoa leiga.\n",
        "\n",
        "        Considere termos como: latim jurídico (e.g., 'ad hoc'), termos técnicos específicos da área do contrato (e.g., em um contrato de tecnologia, 'API', 'SaaS'), e cláusulas com redação complexa.\n",
        "\n",
        "        Apresente a lista de jargões identificados de forma clara e concisa para o próximo agente.\n",
        "        \"\"\",\n",
        "        description=\"Agente que identifica jargões jurídicos e técnicos.\"\n",
        "    )\n",
        "    return identificador"
      ],
      "metadata": {
        "id": "y3VO1uo5_ghO"
      },
      "execution_count": 153,
      "outputs": []
    },
    {
      "cell_type": "code",
      "source": [
        "# Agente 3: Explicador de Termos\n",
        "def agente_explicador(google_search):\n",
        "    explicador = Agent(\n",
        "        name=\"agente_explicador\",\n",
        "        model=MODEL_ID,\n",
        "        instruction=\"\"\"\n",
        "        Você é um especialista em explicar termos jurídicos e técnicos de forma clara e acessível para pessoas leigas.\n",
        "        Você receberá uma lista de jargões identificados em um contrato.\n",
        "\n",
        "        Para cada termo da lista, sua tarefa é fornecer uma explicação concisa e em linguagem simples.\n",
        "        Se necessário, utilize a ferramenta de busca do Google (google_search) para encontrar definições e explicações adequadas.\n",
        "\n",
        "        Tente fornecer exemplos práticos ou analogias para facilitar a compreensão.\n",
        "\n",
        "        Apresente cada termo seguido de sua explicação de forma clara e organizada.\n",
        "        \"\"\",\n",
        "        description=\"Agente que explica jargões jurídicos e técnicos para leigos.\",\n",
        "        tools=[google_search]\n",
        "    )\n",
        "    return explicador"
      ],
      "metadata": {
        "id": "uOqlg2TRLVh1"
      },
      "execution_count": 154,
      "outputs": []
    },
    {
      "cell_type": "code",
      "source": [
        "# Agente 4: Resumidor e Destacador de Pontos Chave\n",
        "def agente_resumidor():\n",
        "    resumidor = Agent(\n",
        "        name=\"agente_resumidor\",\n",
        "        model=MODEL_ID,\n",
        "        instruction=\"\"\"\n",
        "        Você é um especialista em resumir contratos e destacar os pontos mais importantes para uma pessoa leiga.\n",
        "        Com base no texto completo do contrato, sua tarefa é gerar um resumo conciso, com linguagem simples e direta.\n",
        "\n",
        "        Além do resumo, identifique e liste as cláusulas ou pontos que são cruciais para o entendimento do usuário, como:\n",
        "        - Objeto do contrato\n",
        "        - Obrigações das partes\n",
        "        - Prazos e condições\n",
        "        - Formas de pagamento (se aplicável)\n",
        "        - Condições de rescisão\n",
        "        - Penalidades (se houver)\n",
        "\n",
        "        Apresente o resumo e os pontos chave de forma clara e organizada, utilizando marcadores ou listas para facilitar a leitura.\n",
        "        \"\"\",\n",
        "        description=\"Agente que resume contratos e destaca pontos chave.\"\n",
        "    )\n",
        "    return resumidor"
      ],
      "metadata": {
        "id": "_aTb1SdkLeT6"
      },
      "execution_count": 155,
      "outputs": []
    },
    {
      "cell_type": "code",
      "source": [
        "print(\"📜🧐 Iniciando o Sistema Decifra-Contrato (com suporte a arquivos) 📜🧐\")\n",
        "\n",
        "contrato_texto = \"\"\n",
        "while True:\n",
        "    opcao = input(\"❓ Deseja colar o texto do contrato (digite 'texto') ou carregar um arquivo (digite 'arquivo')? \").lower()\n",
        "    if opcao in ['texto', 'arquivo']:\n",
        "        break\n",
        "    else:\n",
        "        print(\"\\n⚠️ Opção inválida. Por favor, digite 'texto' ou 'arquivo'.\")\n",
        "\n",
        "if opcao == 'texto':\n",
        "    contrato_texto = input(\"Cole o texto do contrato aqui: \")\n",
        "elif opcao == 'arquivo':\n",
        "    try:\n",
        "        uploaded = files.upload()\n",
        "        if uploaded:\n",
        "            nome_arquivo = list(uploaded.keys())[0]\n",
        "            contrato_texto = ler_arquivo(nome_arquivo)\n",
        "            if isinstance(contrato_texto, str) and contrato_texto.startswith(\"⚠️\"):\n",
        "                print(f\"\\n{contrato_texto}\")\n",
        "                contrato_texto = \"\"\n",
        "            else:\n",
        "                print(f\"\\nArquivo '{nome_arquivo}' lido com sucesso.\")\n",
        "        else:\n",
        "            print(\"\\n⚠️ Nenhum arquivo foi carregado.\")\n",
        "    except Exception as e:\n",
        "        print(f\"\\n⚠️ Ocorreu um erro ao carregar o arquivo: {e}\")\n",
        "        contrato_texto = \"\"\n",
        "\n",
        "# Executa o pipeline, independente da origem do texto\n",
        "if contrato_texto:\n",
        "    try:\n",
        "        receptor = agente_receptor()\n",
        "        identificador = agente_identificador()\n",
        "        explicador = agente_explicador(google_search)\n",
        "        resumidor = agente_resumidor()\n",
        "    except Exception as e:\n",
        "        print(f\"⚠️ Erro ao inicializar os agentes: {e}\")\n",
        "        contrato_texto = \"\"\n",
        "\n",
        "if contrato_texto:\n",
        "    display(Markdown(\"## ✨ Iniciando processamento...\"))\n",
        "\n",
        "    display(Markdown(\"### ⏳ Etapa 1: Extraindo texto do contrato...\"))\n",
        "    texto_contrato_extraido = call_agent(receptor, contrato_texto)\n",
        "    if texto_contrato_extraido.startswith(\"⚠️\"):\n",
        "        display(Markdown(f\"### ⚠️ Extração: <span style='color:orange'>{texto_contrato_extraido}</span>\"))\n",
        "    else:\n",
        "        display(Markdown(\"### 📝 Contrato Extraído\"))\n",
        "        display(to_markdown(texto_contrato_extraido))\n",
        "\n",
        "        display(Markdown(\"### ⏳ Etapa 2: Identificando jargões...\"))\n",
        "        jargoes_identificados = call_agent(identificador, texto_contrato_extraido)\n",
        "        display(Markdown(\"### 🔎 Jargões identificados\"))\n",
        "        display(to_markdown(jargoes_identificados))\n",
        "\n",
        "        display(Markdown(\"### ⏳ Etapa 3: Explicando termos...\"))\n",
        "        explicacoes_termos = call_agent(explicador, jargoes_identificados)\n",
        "        display(Markdown(\"### 💡 Termos explicados\"))\n",
        "        display(to_markdown(explicacoes_termos))\n",
        "\n",
        "        display(Markdown(\"### ⏳ Etapa 4: Resumindo contrato e destacando pontos chave...\"))\n",
        "        resumo_contrato = call_agent(resumidor, texto_contrato_extraido)\n",
        "        display(Markdown(\"### 📚 Resumo gerado\"))\n",
        "        display(to_markdown(resumo_contrato))\n",
        "\n",
        "        display(Markdown(\"## ✅ Análise Concluída!\"))"
      ],
      "metadata": {
        "colab": {
          "base_uri": "https://localhost:8080/",
          "height": 1000
        },
        "id": "6xzI6LKzxxnN",
        "outputId": "80444268-4905-4077-bb62-8409aa1e3e06"
      },
      "execution_count": 164,
      "outputs": [
        {
          "name": "stdout",
          "output_type": "stream",
          "text": [
            "📜🧐 Iniciando o Sistema Decifra-Contrato (com suporte a arquivos) 📜🧐\n",
            "❓ Deseja colar o texto do contrato (digite 'texto') ou carregar um arquivo (digite 'arquivo')? arquivo\n"
          ]
        },
        {
          "output_type": "display_data",
          "data": {
            "text/plain": [
              "<IPython.core.display.HTML object>"
            ],
            "text/html": [
              "\n",
              "     <input type=\"file\" id=\"files-6c980951-c1a5-4409-80f8-00aed9b38053\" name=\"files[]\" multiple disabled\n",
              "        style=\"border:none\" />\n",
              "     <output id=\"result-6c980951-c1a5-4409-80f8-00aed9b38053\">\n",
              "      Upload widget is only available when the cell has been executed in the\n",
              "      current browser session. Please rerun this cell to enable.\n",
              "      </output>\n",
              "      <script>// Copyright 2017 Google LLC\n",
              "//\n",
              "// Licensed under the Apache License, Version 2.0 (the \"License\");\n",
              "// you may not use this file except in compliance with the License.\n",
              "// You may obtain a copy of the License at\n",
              "//\n",
              "//      http://www.apache.org/licenses/LICENSE-2.0\n",
              "//\n",
              "// Unless required by applicable law or agreed to in writing, software\n",
              "// distributed under the License is distributed on an \"AS IS\" BASIS,\n",
              "// WITHOUT WARRANTIES OR CONDITIONS OF ANY KIND, either express or implied.\n",
              "// See the License for the specific language governing permissions and\n",
              "// limitations under the License.\n",
              "\n",
              "/**\n",
              " * @fileoverview Helpers for google.colab Python module.\n",
              " */\n",
              "(function(scope) {\n",
              "function span(text, styleAttributes = {}) {\n",
              "  const element = document.createElement('span');\n",
              "  element.textContent = text;\n",
              "  for (const key of Object.keys(styleAttributes)) {\n",
              "    element.style[key] = styleAttributes[key];\n",
              "  }\n",
              "  return element;\n",
              "}\n",
              "\n",
              "// Max number of bytes which will be uploaded at a time.\n",
              "const MAX_PAYLOAD_SIZE = 100 * 1024;\n",
              "\n",
              "function _uploadFiles(inputId, outputId) {\n",
              "  const steps = uploadFilesStep(inputId, outputId);\n",
              "  const outputElement = document.getElementById(outputId);\n",
              "  // Cache steps on the outputElement to make it available for the next call\n",
              "  // to uploadFilesContinue from Python.\n",
              "  outputElement.steps = steps;\n",
              "\n",
              "  return _uploadFilesContinue(outputId);\n",
              "}\n",
              "\n",
              "// This is roughly an async generator (not supported in the browser yet),\n",
              "// where there are multiple asynchronous steps and the Python side is going\n",
              "// to poll for completion of each step.\n",
              "// This uses a Promise to block the python side on completion of each step,\n",
              "// then passes the result of the previous step as the input to the next step.\n",
              "function _uploadFilesContinue(outputId) {\n",
              "  const outputElement = document.getElementById(outputId);\n",
              "  const steps = outputElement.steps;\n",
              "\n",
              "  const next = steps.next(outputElement.lastPromiseValue);\n",
              "  return Promise.resolve(next.value.promise).then((value) => {\n",
              "    // Cache the last promise value to make it available to the next\n",
              "    // step of the generator.\n",
              "    outputElement.lastPromiseValue = value;\n",
              "    return next.value.response;\n",
              "  });\n",
              "}\n",
              "\n",
              "/**\n",
              " * Generator function which is called between each async step of the upload\n",
              " * process.\n",
              " * @param {string} inputId Element ID of the input file picker element.\n",
              " * @param {string} outputId Element ID of the output display.\n",
              " * @return {!Iterable<!Object>} Iterable of next steps.\n",
              " */\n",
              "function* uploadFilesStep(inputId, outputId) {\n",
              "  const inputElement = document.getElementById(inputId);\n",
              "  inputElement.disabled = false;\n",
              "\n",
              "  const outputElement = document.getElementById(outputId);\n",
              "  outputElement.innerHTML = '';\n",
              "\n",
              "  const pickedPromise = new Promise((resolve) => {\n",
              "    inputElement.addEventListener('change', (e) => {\n",
              "      resolve(e.target.files);\n",
              "    });\n",
              "  });\n",
              "\n",
              "  const cancel = document.createElement('button');\n",
              "  inputElement.parentElement.appendChild(cancel);\n",
              "  cancel.textContent = 'Cancel upload';\n",
              "  const cancelPromise = new Promise((resolve) => {\n",
              "    cancel.onclick = () => {\n",
              "      resolve(null);\n",
              "    };\n",
              "  });\n",
              "\n",
              "  // Wait for the user to pick the files.\n",
              "  const files = yield {\n",
              "    promise: Promise.race([pickedPromise, cancelPromise]),\n",
              "    response: {\n",
              "      action: 'starting',\n",
              "    }\n",
              "  };\n",
              "\n",
              "  cancel.remove();\n",
              "\n",
              "  // Disable the input element since further picks are not allowed.\n",
              "  inputElement.disabled = true;\n",
              "\n",
              "  if (!files) {\n",
              "    return {\n",
              "      response: {\n",
              "        action: 'complete',\n",
              "      }\n",
              "    };\n",
              "  }\n",
              "\n",
              "  for (const file of files) {\n",
              "    const li = document.createElement('li');\n",
              "    li.append(span(file.name, {fontWeight: 'bold'}));\n",
              "    li.append(span(\n",
              "        `(${file.type || 'n/a'}) - ${file.size} bytes, ` +\n",
              "        `last modified: ${\n",
              "            file.lastModifiedDate ? file.lastModifiedDate.toLocaleDateString() :\n",
              "                                    'n/a'} - `));\n",
              "    const percent = span('0% done');\n",
              "    li.appendChild(percent);\n",
              "\n",
              "    outputElement.appendChild(li);\n",
              "\n",
              "    const fileDataPromise = new Promise((resolve) => {\n",
              "      const reader = new FileReader();\n",
              "      reader.onload = (e) => {\n",
              "        resolve(e.target.result);\n",
              "      };\n",
              "      reader.readAsArrayBuffer(file);\n",
              "    });\n",
              "    // Wait for the data to be ready.\n",
              "    let fileData = yield {\n",
              "      promise: fileDataPromise,\n",
              "      response: {\n",
              "        action: 'continue',\n",
              "      }\n",
              "    };\n",
              "\n",
              "    // Use a chunked sending to avoid message size limits. See b/62115660.\n",
              "    let position = 0;\n",
              "    do {\n",
              "      const length = Math.min(fileData.byteLength - position, MAX_PAYLOAD_SIZE);\n",
              "      const chunk = new Uint8Array(fileData, position, length);\n",
              "      position += length;\n",
              "\n",
              "      const base64 = btoa(String.fromCharCode.apply(null, chunk));\n",
              "      yield {\n",
              "        response: {\n",
              "          action: 'append',\n",
              "          file: file.name,\n",
              "          data: base64,\n",
              "        },\n",
              "      };\n",
              "\n",
              "      let percentDone = fileData.byteLength === 0 ?\n",
              "          100 :\n",
              "          Math.round((position / fileData.byteLength) * 100);\n",
              "      percent.textContent = `${percentDone}% done`;\n",
              "\n",
              "    } while (position < fileData.byteLength);\n",
              "  }\n",
              "\n",
              "  // All done.\n",
              "  yield {\n",
              "    response: {\n",
              "      action: 'complete',\n",
              "    }\n",
              "  };\n",
              "}\n",
              "\n",
              "scope.google = scope.google || {};\n",
              "scope.google.colab = scope.google.colab || {};\n",
              "scope.google.colab._files = {\n",
              "  _uploadFiles,\n",
              "  _uploadFilesContinue,\n",
              "};\n",
              "})(self);\n",
              "</script> "
            ]
          },
          "metadata": {}
        },
        {
          "output_type": "stream",
          "name": "stdout",
          "text": [
            "Saving Modelo-CONTRATO-DE-PRESTAÇÃO-DE-SERVIÇOS.pdf to Modelo-CONTRATO-DE-PRESTAÇÃO-DE-SERVIÇOS (11).pdf\n",
            "\n",
            "Arquivo 'Modelo-CONTRATO-DE-PRESTAÇÃO-DE-SERVIÇOS (11).pdf' lido com sucesso.\n"
          ]
        },
        {
          "output_type": "display_data",
          "data": {
            "text/plain": [
              "<IPython.core.display.Markdown object>"
            ],
            "text/markdown": "## ✨ Iniciando processamento..."
          },
          "metadata": {}
        },
        {
          "output_type": "display_data",
          "data": {
            "text/plain": [
              "<IPython.core.display.Markdown object>"
            ],
            "text/markdown": "### ⏳ Etapa 1: Extraindo texto do contrato..."
          },
          "metadata": {}
        },
        {
          "output_type": "display_data",
          "data": {
            "text/plain": [
              "<IPython.core.display.Markdown object>"
            ],
            "text/markdown": "### 📝 Contrato Extraído"
          },
          "metadata": {}
        },
        {
          "output_type": "display_data",
          "data": {
            "text/plain": [
              "<IPython.core.display.Markdown object>"
            ],
            "text/markdown": "> Contrato de Prestação de Serviços\n> \n> CONTRATANTE: ____________________________, inscrito CPF sob nº ________________ e RG: _________ SSP ___, a Rua __________, nº _______, bairro _____________, Florianópolis/SC, diretor do curta-metragem “_____________________”.\n> CONTRATADO: _______________________________, inscrito CPF sob nº _________________, sito à Rua ______________________________________________________________, Florianópolis/SC, ____________________ do curta-metragem “___________________”.\n> \n> CONTRATANTE e CONTRATADO, acima nomeados e qualificados, tem entre si justo e acordado o seguinte:\n> \n> O CONTRATANTE, como principal responsável, está iniciando a realização de obra audiovisual cinematográfica de CURTA-METRAGEM EM VÍDEO, previamente intitulado _________________________, sob direção de ______________________, doravante denominada simplesmente OBRA.\n> \n> CLÁUSULA PRIMEIRA - DO OBJETO E DAS OBRIGAÇÕES\n> Tendo em vista o roteiro e a concepção artística do mencionado filme, o CONTRATANTE contrata o CONTRATADO para prestar-lhe os serviços de técnico cinematográfico na função de _____________________________________.\n> \n> 1.1 A fim de garantir a boa execução do trabalho, o CONTRATADO compromete-se, por este ato, a observar e cumprir o cronograma de atividades da referida obra.\n> \n> 1.2 O CONTRATADO assume as responsabilidades inerentes a sua função no filme e se dispõe a realizá-la de acordo com o que for requerido pela direção e produção da obra.\n> \n> 1.3 O CONTRATADO cede, por prazo indeterminado e de forma irretratável e irrenunciável para o CONTRATANTE, todos os direitos patrimoniais e conexos relativos ao seu trabalho na citada obra, que possam ser auferidos por qualquer utilização do filme, no Brasil e no exterior, para fins comerciais ou não, incluindo a reprodução, gravação, promoção e divulgação da obra, nos meios audiovisuais competentes existentes e a serem criados.\n> \n> CLÁUSULA SEGUNDA – DA DURAÇÃO DO CONTRATO\n> Os serviços aqui contratados deverão ser realizados no período de ______________ , em datas previamente acertadas entre as partes.\n> \n> CLÁUSULA TERCEIRA – DA REMUNERAÇÃO\n> \n> 3.1 O CONTRATADO não receberá pelo trabalho qualquer ônus ou remuneração.\n> \n> CLÁUSULA QUARTA – DOS CRÉDITOS\n> 4.1 De acordo com o estabelecido na legislação vigente, o CONTRATADO terá o direito de que figure seu nome nos créditos da OBRA na função referida neste contrato.\n> \n> CLÁUSULA QUINTA – DA RESOLUÇÃO\n> 5.1 Em caso de extinção do presente contrato, em qualquer uma das formas, os trabalhos realizados pelo CONTRATADO e os direitos autorais cedidos na vigência do mesmo, serão utilizados pela CONTRATANTE, ressalvados os direitos de cunho moral relativos ao presente.\n> \n> CLÁUSULA SEXTA – CONVENÇÃO DAS PARTES\n> 6.1 Este contrato terá vigência a partir de sua assinatura até a finalização da OBRA.\n> 6.2 As partes concordam que este instrumento contém a totalidade dos entendimentos entre as partes, perdendo sua validade todos e quaisquer outros entendimentos previamente acordados entre as partes, sejam estes orais, escritos ou de que natureza forem.\n> \n> E por estarem assim, justos e contratados, assinam o presente em 2 (duas) vias de igual teor e forma, para o mesmo fim.\n> \n> Florianópolis, ____________________________________\n> \n> ____________________________________ ________________________________\n> \n> CONTRATANTE CONTRATADO\n> \n> ## Anotações Adicionais:\n> *   Tipo de contrato: Contrato de Prestação de Serviços para obra audiovisual (curta-metragem).\n"
          },
          "metadata": {}
        },
        {
          "output_type": "display_data",
          "data": {
            "text/plain": [
              "<IPython.core.display.Markdown object>"
            ],
            "text/markdown": "### ⏳ Etapa 2: Identificando jargões..."
          },
          "metadata": {}
        },
        {
          "output_type": "display_data",
          "data": {
            "text/plain": [
              "<IPython.core.display.Markdown object>"
            ],
            "text/markdown": "### 🔎 Jargões identificados"
          },
          "metadata": {}
        },
        {
          "output_type": "display_data",
          "data": {
            "text/plain": [
              "<IPython.core.display.Markdown object>"
            ],
            "text/markdown": "> ## Jargões Jurídicos e Termos Técnicos Identificados no Contrato:\n> \n> *   **Contratante/Contratado:** Termos padrão em contratos, mas que podem ser substituídos por termos mais claros dependendo do contexto.\n> *   **Obra audiovisual cinematográfica:** Termo técnico da área de produção de filmes.\n> *   **Roteiro e a concepção artística:** Termos técnicos da área de produção de filmes.\n> *   **Técnico cinematográfico:** Termo técnico da área de produção de filmes.\n> *   **Função de (preencher):** Termo técnico da área de produção de filmes.\n> *   **Obrigações inerentes:** Refere-se às responsabilidades específicas da função do contratado, que podem não ser claras para um leigo sem experiência na área.\n> *   **Prazo indeterminado:** Significa que a duração não é definida no contrato.\n> *   **De forma irretratável e irrenunciável:** Cláusula que impede o CONTRATADO de cancelar a cessão dos direitos ou renunciar a ela no futuro.\n> *   **Direitos patrimoniais e conexos:** Termos técnicos relacionados aos direitos autorais, que podem ser desconhecidos por leigos.\n> *   **Meios audiovisuais competentes existentes e a serem criados:**  Abrange todas as formas de exibição e distribuição, mesmo as que ainda não existem.\n> *   **Legislação vigente:** Refere-se às leis aplicáveis, mas não especifica quais são.\n> *   **Extinção do presente contrato, em qualquer uma das formas:**  Refere-se a diferentes maneiras pelas quais o contrato pode terminar (e.g., por cumprimento, rescisão, etc.).\n> *   **Direitos de cunho moral:** Termo jurídico específico relacionado aos direitos do autor sobre sua obra (e.g., direito de ter seu nome creditado).\n> *   **Vigência:** Período em que o contrato está em efeito.\n> *   **Instrumento:** Refere-se ao contrato em si.\n> *   **Totalidade dos entendimentos:** Confirma que o contrato representa o acordo completo entre as partes.\n> *   **De igual teor e forma:**  Significa que ambas as vias do contrato são idênticas.\n> \n"
          },
          "metadata": {}
        },
        {
          "output_type": "display_data",
          "data": {
            "text/plain": [
              "<IPython.core.display.Markdown object>"
            ],
            "text/markdown": "### ⏳ Etapa 3: Explicando termos..."
          },
          "metadata": {}
        },
        {
          "output_type": "display_data",
          "data": {
            "text/plain": [
              "<IPython.core.display.Markdown object>"
            ],
            "text/markdown": "### 💡 Termos explicados"
          },
          "metadata": {}
        },
        {
          "output_type": "display_data",
          "data": {
            "text/plain": [
              "<IPython.core.display.Markdown object>"
            ],
            "text/markdown": "> Ok, entendi! Vou explicar cada um desses jargões e termos técnicos de forma clara e acessível:\n> \n> \n> Aqui estão as explicações dos termos:\n> \n> *   **Contratante/Contratado:** O **contratante** é a pessoa ou empresa que está pagando por um serviço ou produto, ou seja, quem contrata. O **contratado** é quem está prestando o serviço ou fornecendo o produto. Em vez desses termos, você pode usar \"empresa\" e \"cliente\", \"prestador de serviços\" e \"contratante\" ou os nomes das partes envolvidas.\n> \n> *   **Obra audiovisual cinematográfica:** Refere-se a uma produção que utiliza imagens em movimento e som, criada para ser exibida em salas de cinema. Inclui filmes de ficção, documentários e animações.\n> \n> *   **Roteiro e a concepção artística:** O **roteiro** é o texto que descreve a história, os diálogos e as cenas do filme. A **concepção artística** é a visão criativa geral do filme, incluindo o estilo visual, a atmosfera e a mensagem que o diretor e a equipe querem transmitir.\n> \n> *   **Técnico cinematográfico:** É o profissional que trabalha nos bastidores da produção de um filme, utilizando equipamentos e conhecimentos técnicos para garantir a qualidade do som, da imagem, da iluminação e de outros aspectos técnicos.\n> \n> *   **Função de (preencher):** Refere-se ao cargo ou papel específico que o contratado irá desempenhar na produção do filme. É importante detalhar as responsabilidades e tarefas associadas a essa função.\n> \n> *   **Obrigações inerentes:** São as responsabilidades que fazem parte da função que o contratado vai exercer. Por exemplo, se o contratado for um editor de vídeo, uma obrigação inerente é entregar o material editado no prazo combinado.\n> \n> *   **Prazo indeterminado:** Significa que o contrato não tem uma data de término definida. Ele continua valendo até que uma das partes decida encerrá-lo.\n> \n> *   **De forma irretratável e irrenunciável:** Essa cláusula significa que o contratado não pode cancelar ou desistir do que foi acordado. Uma vez assinado, o contrato deve ser cumprido até o fim, a menos que haja um acordo entre as partes.\n> \n> *   **Direitos patrimoniais e conexos:** Os **direitos patrimoniais** são os direitos de explorar economicamente a obra, como vendê-la, licenciá-la ou reproduzi-la. Os **direitos conexos** são os direitos de outros profissionais que contribuíram para a obra, como atores, músicos e técnicos.\n> \n> *   **Meios audiovisuais competentes existentes e a serem criados:** Essa expressão garante que os direitos de exibição e distribuição do filme valem para todas as tecnologias atuais e futuras, como cinema, televisão, internet, DVDs, Blu-rays e outras que venham a surgir.\n> \n> *   **Legislação vigente:** Refere-se às leis que se aplicam ao contrato. No entanto, é recomendável especificar quais leis são relevantes, como a Lei de Direitos Autorais, a Lei do Audiovisual e o Código Civil.\n> \n> *   **Extinção do presente contrato, em qualquer uma das formas:** Refere-se às diferentes maneiras pelas quais o contrato pode ser finalizado, como por exemplo, término do prazo, cumprimento de todas as obrigações, acordo entre as partes (rescisão amigável) ou descumprimento do contrato por uma das partes.\n> \n> *   **Direitos de cunho moral:** São os direitos do autor de uma obra de ser reconhecido como o criador dela e de ter sua obra protegida contra alterações ou usos que possam prejudicar sua reputação. Esses direitos não podem ser vendidos ou renunciados.\n> \n> *   **Vigência:** É o período de tempo em que o contrato é válido e produz efeitos. A data de início e término da vigência devem estar claramente especificadas no contrato.\n> \n> *   **Instrumento:** É o próprio contrato. Em vez de \"instrumento\", você pode simplesmente usar a palavra \"contrato\".\n> \n> *   **Totalidade dos entendimentos:** Essa cláusula confirma que o contrato representa o acordo completo entre as partes, ou seja, tudo o que foi combinado está escrito no contrato e nada mais.\n> \n> *   **De igual teor e forma:** Significa que todas as cópias do contrato são idênticas, com o mesmo conteúdo e aparência. Isso garante que não haja dúvidas sobre qual é a versão original do contrato.\n> \n"
          },
          "metadata": {}
        },
        {
          "output_type": "display_data",
          "data": {
            "text/plain": [
              "<IPython.core.display.Markdown object>"
            ],
            "text/markdown": "### ⏳ Etapa 4: Resumindo contrato e destacando pontos chave..."
          },
          "metadata": {}
        },
        {
          "output_type": "display_data",
          "data": {
            "text/plain": [
              "<IPython.core.display.Markdown object>"
            ],
            "text/markdown": "### 📚 Resumo gerado"
          },
          "metadata": {}
        },
        {
          "output_type": "display_data",
          "data": {
            "text/plain": [
              "<IPython.core.display.Markdown object>"
            ],
            "text/markdown": "> ## Resumo do Contrato de Prestação de Serviços (Curta-Metragem)\n> \n> Este contrato estabelece os termos do acordo entre o CONTRATANTE (diretor do curta-metragem) e o CONTRATADO (técnico cinematográfico) para a realização do curta-metragem \"_____________________\". O CONTRATADO prestará serviços técnicos na função de _____________________________________, comprometendo-se a seguir o cronograma e as orientações da direção. Em contrapartida, o CONTRATADO cede os direitos patrimoniais e conexos de seu trabalho ao CONTRATANTE, sem receber remuneração financeira. O CONTRATADO terá seu nome creditado na obra. O contrato é válido até a finalização do curta-metragem.\n> \n> ## Pontos Chave do Contrato:\n> \n> *   **Objeto do Contrato:** Prestação de serviços técnicos cinematográficos pelo CONTRATADO na função de _____________________________________ para o curta-metragem \"_____________________\".\n> *   **Obrigações do CONTRATADO:**\n>     *   Realizar os serviços técnicos conforme o cronograma e as orientações da direção.\n>     *   Ceder os direitos patrimoniais e conexos de seu trabalho ao CONTRATANTE.\n> *   **Obrigações do CONTRATANTE:**\n>     *   Creditar o nome do CONTRATADO na obra.\n> *   **Prazos e Condições:** O contrato tem validade a partir da assinatura até a finalização da obra, com os serviços a serem realizados no período de ______________.\n> *   **Forma de Pagamento:** Não há remuneração financeira para o CONTRATADO.\n> *   **Condições de Rescisão:** Em caso de extinção do contrato, o CONTRATANTE poderá utilizar os trabalhos já realizados e os direitos autorais cedidos.\n> *   **Penalidades:** O contrato não menciona penalidades específicas.\n"
          },
          "metadata": {}
        },
        {
          "output_type": "display_data",
          "data": {
            "text/plain": [
              "<IPython.core.display.Markdown object>"
            ],
            "text/markdown": "## ✅ Análise Concluída!"
          },
          "metadata": {}
        }
      ]
    }
  ]
}