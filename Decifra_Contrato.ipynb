{
  "nbformat": 4,
  "nbformat_minor": 0,
  "metadata": {
    "colab": {
      "provenance": [],
      "include_colab_link": true
    },
    "kernelspec": {
      "name": "python3",
      "display_name": "Python 3"
    },
    "language_info": {
      "name": "python"
    }
  },
  "cells": [
    {
      "cell_type": "markdown",
      "metadata": {
        "id": "view-in-github",
        "colab_type": "text"
      },
      "source": [
        "<a href=\"https://colab.research.google.com/github/William-Schwarz/Decifra-Contrato/blob/william_ds/Decifra_Contrato.ipynb\" target=\"_parent\"><img src=\"https://colab.research.google.com/assets/colab-badge.svg\" alt=\"Open In Colab\"/></a>"
      ]
    },
    {
      "cell_type": "code",
      "source": [
        "!pip -q install google-genai google-adk"
      ],
      "metadata": {
        "id": "UCCbECexLk_h"
      },
      "execution_count": null,
      "outputs": []
    },
    {
      "cell_type": "code",
      "source": [
        "# Configura a API Key do Google Gemini\n",
        "\n",
        "import os\n",
        "from google.colab import userdata\n",
        "\n",
        "os.environ[\"GOOGLE_API_KEY\"] = userdata.get('GOOGLE_API_KEY')"
      ],
      "metadata": {
        "id": "NfCqHo1tLk8P"
      },
      "execution_count": null,
      "outputs": []
    },
    {
      "cell_type": "code",
      "source": [
        "# Configura o cliente da SDK do Gemini\n",
        "\n",
        "from google import genai\n",
        "\n",
        "client = genai.Client()\n",
        "\n",
        "MODEL_ID = \"gemini-2.0-flash\""
      ],
      "metadata": {
        "id": "bV4w0H5TLk5g"
      },
      "execution_count": null,
      "outputs": []
    },
    {
      "cell_type": "code",
      "execution_count": null,
      "metadata": {
        "id": "aePV2bdfDeoW"
      },
      "outputs": [],
      "source": [
        "from google.adk.agents import Agent\n",
        "from google.adk.runners import Runner\n",
        "from google.adk.sessions import InMemorySessionService\n",
        "from google.adk.tools import google_search\n",
        "from google.genai import types  # Para criar conteúdos (Content e Part)\n",
        "from datetime import date\n",
        "import textwrap # Para formatar melhor a saída de texto\n",
        "from IPython.display import display, Markdown # Para exibir texto formatado no Colab\n",
        "import requests # Para fazer requisições HTTP\n",
        "import warnings\n",
        "\n",
        "warnings.filterwarnings(\"ignore\")"
      ]
    },
    {
      "cell_type": "code",
      "source": [
        "# Função auxiliar que envia uma mensagem para um agente via Runner e retorna a resposta final\n",
        "def call_agent(agent: Agent, message_text: str) -> str:\n",
        "    # Cria um serviço de sessão em memória\n",
        "    session_service = InMemorySessionService()\n",
        "    # Cria uma nova sessão (você pode personalizar os IDs conforme necessário)\n",
        "    session = session_service.create_session(app_name=agent.name, user_id=\"user1\", session_id=\"session1\")\n",
        "    # Cria um Runner para o agente\n",
        "    runner = Runner(agent=agent, app_name=agent.name, session_service=session_service)\n",
        "    # Cria o conteúdo da mensagem de entrada\n",
        "    content = types.Content(role=\"user\", parts=[types.Part(text=message_text)])\n",
        "\n",
        "    final_response = \"\"\n",
        "    # Itera assincronamente pelos eventos retornados durante a execução do agente\n",
        "    for event in runner.run(user_id=\"user1\", session_id=\"session1\", new_message=content):\n",
        "        if event.is_final_response():\n",
        "            for part in event.content.parts:\n",
        "                if part.text is not None:\n",
        "                    final_response += part.text\n",
        "                    final_response += \"\\n\"\n",
        "    return final_response"
      ],
      "metadata": {
        "id": "_xP4lWhsS5ko"
      },
      "execution_count": null,
      "outputs": []
    },
    {
      "cell_type": "code",
      "source": [
        "# Função auxiliar para exibir texto formatado em Markdown no Colab\n",
        "def to_markdown(text):\n",
        "    text = text.replace('•', '  *')\n",
        "    return Markdown(textwrap.indent(text, '> ', predicate=lambda _: True))"
      ],
      "metadata": {
        "id": "8dosiodaxfFR"
      },
      "execution_count": null,
      "outputs": []
    },
    {
      "cell_type": "code",
      "source": [
        "######################################################\n",
        "# --- Agente 1: Receptor e Extrator de Contrato --- #\n",
        "######################################################\n",
        "def agente_receptor():\n",
        "    receptor = Agent(\n",
        "        name=\"agente_receptor\",\n",
        "        model=MODEL_ID,\n",
        "        instruction=\"\"\"\n",
        "        Você é o agente inicial do sistema Decifra-Contrato. Sua tarefa é receber o contrato fornecido pelo usuário.\n",
        "        Este contrato pode ser um texto diretamente inserido ou o conteúdo de um arquivo.\n",
        "\n",
        "        Uma vez que o contrato é fornecido, sua principal função é extrair o texto completo e limpo do contrato.\n",
        "        Remova qualquer formatação desnecessária que possa dificultar a análise posterior (como quebras de linha excessivas, numerações automáticas, etc.).\n",
        "\n",
        "        Se o usuário fornecer informações adicionais sobre o tipo de contrato (por exemplo, \"contrato de aluguel\", \"termo de serviço\"), anote essa informação para auxiliar os próximos agentes.\n",
        "\n",
        "        Ao final, entregue o texto puro do contrato para o próximo agente.\n",
        "        \"\"\",\n",
        "        description=\"Agente que recebe e extrai o texto do contrato.\"\n",
        "    )\n",
        "    return receptor"
      ],
      "metadata": {
        "id": "o8bqIfi_DyH8"
      },
      "execution_count": null,
      "outputs": []
    },
    {
      "cell_type": "code",
      "source": [
        "#######################################################\n",
        "# --- Agente 2: Identificador de Jargões --- #\n",
        "#######################################################\n",
        "def agente_identificador():\n",
        "    identificador = Agent(\n",
        "        name=\"agente_identificador\",\n",
        "        model=MODEL_ID,\n",
        "        instruction=\"\"\"\n",
        "        Você é um especialista em identificar jargões jurídicos e termos técnicos dentro de um texto de contrato.\n",
        "        Sua tarefa é analisar o texto do contrato fornecido e listar todos os termos que provavelmente seriam desconhecidos por uma pessoa leiga.\n",
        "\n",
        "        Considere termos como: latim jurídico (e.g., 'ad hoc'), termos técnicos específicos da área do contrato (e.g., em um contrato de tecnologia, 'API', 'SaaS'), e cláusulas com redação complexa.\n",
        "\n",
        "        Apresente a lista de jargões identificados de forma clara e concisa para o próximo agente.\n",
        "        \"\"\",\n",
        "        description=\"Agente que identifica jargões jurídicos e técnicos.\"\n",
        "    )\n",
        "    return identificador"
      ],
      "metadata": {
        "id": "y3VO1uo5_ghO"
      },
      "execution_count": null,
      "outputs": []
    },
    {
      "cell_type": "code",
      "source": [
        "########################################################\n",
        "# --- Agente 3: Explicador de Termos --- #\n",
        "########################################################\n",
        "def agente_explicador(google_search):\n",
        "    explicador = Agent(\n",
        "        name=\"agente_explicador\",\n",
        "        model=MODEL_ID,\n",
        "        instruction=\"\"\"\n",
        "        Você é um especialista em explicar termos jurídicos e técnicos de forma clara e acessível para pessoas leigas.\n",
        "        Você receberá uma lista de jargões identificados em um contrato.\n",
        "\n",
        "        Para cada termo da lista, sua tarefa é fornecer uma explicação concisa e em linguagem simples.\n",
        "        Se necessário, utilize a ferramenta de busca do Google (google_search) para encontrar definições e explicações adequadas.\n",
        "\n",
        "        Tente fornecer exemplos práticos ou analogias para facilitar a compreensão.\n",
        "\n",
        "        Apresente cada termo seguido de sua explicação de forma clara e organizada.\n",
        "        \"\"\",\n",
        "        description=\"Agente que explica jargões jurídicos e técnicos para leigos.\",\n",
        "        tools=[google_search]\n",
        "    )\n",
        "    return explicador"
      ],
      "metadata": {
        "id": "uOqlg2TRLVh1"
      },
      "execution_count": null,
      "outputs": []
    },
    {
      "cell_type": "code",
      "source": [
        "#########################################################\n",
        "# --- Agente 4: Resumidor e Destacador de Pontos Chave --- #\n",
        "#########################################################\n",
        "def agente_resumidor():\n",
        "    resumidor = Agent(\n",
        "        name=\"agente_resumidor\",\n",
        "        model=MODEL_ID,\n",
        "        instruction=\"\"\"\n",
        "        Você é um especialista em resumir contratos e destacar os pontos mais importantes para uma pessoa leiga.\n",
        "        Com base no texto completo do contrato, sua tarefa é gerar um resumo conciso, com linguagem simples e direta.\n",
        "\n",
        "        Além do resumo, identifique e liste as cláusulas ou pontos que são cruciais para o entendimento do usuário, como:\n",
        "        - Objeto do contrato\n",
        "        - Obrigações das partes\n",
        "        - Prazos e condições\n",
        "        - Formas de pagamento (se aplicável)\n",
        "        - Condições de rescisão\n",
        "        - Penalidades (se houver)\n",
        "\n",
        "        Apresente o resumo e os pontos chave de forma clara e organizada, utilizando marcadores ou listas para facilitar a leitura.\n",
        "        \"\"\",\n",
        "        description=\"Agente que resume contratos e destaca pontos chave.\"\n",
        "    )\n",
        "    return resumidor"
      ],
      "metadata": {
        "id": "_aTb1SdkLeT6"
      },
      "execution_count": null,
      "outputs": []
    },
    {
      "cell_type": "code",
      "source": [
        "print(\"📜🧐 Iniciando o Sistema Decifra-Contrato 📜🧐\")\n",
        "\n",
        "# --- Obter o Contrato do Usuário ---\n",
        "contrato_texto = input(\"❓ Por favor, cole o texto do contrato aqui: \")\n",
        "\n",
        "if not contrato_texto:\n",
        "    print(\"Você precisa fornecer o texto do contrato!\")\n",
        "else:\n",
        "    print(\"\\n✨ Processando o contrato. Aguarde...\\n\")\n",
        "\n",
        "    # Inicializa os agentes\n",
        "    receptor = agente_receptor()\n",
        "    identificador = agente_identificador()\n",
        "    explicador = agente_explicador(google_search)\n",
        "    resumidor = agente_resumidor()\n",
        "\n",
        "    # --- Execução dos Agentes ---\n",
        "\n",
        "    # Agente Receptor\n",
        "    texto_contrato_extraido = call_agent(receptor, contrato_texto)\n",
        "    print(\"--- 📝 Contrato Extraído ---\")\n",
        "    display(to_markdown(texto_contrato_extraido))\n",
        "    print(\"-----------------------------\\n\")\n",
        "\n",
        "    # Agente Identificador de Jargões\n",
        "    jargoes_identificados = call_agent(identificador, texto_contrato_extraido)\n",
        "    print(\"--- 🔎 Jargões Identificados ---\")\n",
        "    display(to_markdown(jargoes_identificados))\n",
        "    print(\"-------------------------------\\n\")\n",
        "\n",
        "    # Agente Explicador de Termos\n",
        "    explicacoes_termos = call_agent(explicador, jargoes_identificados)\n",
        "    print(\"--- 💡 Explicações dos Termos ---\")\n",
        "    display(to_markdown(explicacoes_termos))\n",
        "    print(\"---------------------------------\\n\")\n",
        "\n",
        "    # Agente Resumidor e Destacador de Pontos Chave\n",
        "    resumo_contrato = call_agent(resumidor, texto_contrato_extraido)\n",
        "    print(\"--- 🔑 Resumo e Pontos Chave do Contrato ---\")\n",
        "    display(to_markdown(resumo_contrato))\n",
        "    print(\"-------------------------------------------\\n\")\n",
        "\n",
        "    print(\"✅ Análise do Contrato Concluída!\")"
      ],
      "metadata": {
        "colab": {
          "base_uri": "https://localhost:8080/",
          "height": 1000
        },
        "id": "6xzI6LKzxxnN",
        "outputId": "b579c164-5884-448f-a803-d58d284bc920"
      },
      "execution_count": 28,
      "outputs": [
        {
          "output_type": "stream",
          "name": "stdout",
          "text": [
            "📜🧐 Iniciando o Sistema Decifra-Contrato 📜🧐\n",
            "❓ Por favor, cole o texto do contrato aqui: CONTRATO DE TRABALHO POR EXPERIÊNCIA  Por este instrumento particular, que entre si fazem CLOUD APOIO ADMINISTRATIVO LTDA, inscrita no CNPJ sob o n  ∘   48.772.069/0001-60, com sede à Avenida CORONEL TRAVASSOS, 1992 SALA 203, bairro BOA VISTA, municipio de Novo Hamburgo/RS, doravante denominada EMPREGADORA, e de outro lado JAMILEH FLACH BRAGA, brasileira, solteira, inscrito(a) no CPF sob o n  ∘   019.127.350-32, RG n  ∘   e CTPS 0191273-5032/RS, residente e domiciliado(a) à Rua ASSIS CHATEAUBRIAND, 3, bairro LIBERDADE, municipio de Novo Hamburgo/RS.  doravante denominado EMPREGADO, fica celebrado o presente CONTRATO DE TRABALHO EM CARÁTER DE EXPERIÊNCIA, de acordo com a legislação em vigor e as condições especificadas a seguir.  Cláusula 1  a  : Fica o EMPREGADO admitido no quadro de trabalhadores da EMPREGADORA para exercer o cargo de ANALISTA DE RH (CBO 252405), com remuneração de R$ 2.200,00 (dois mil, duzentos reais) por mês, a ser pago mensalmente até o prazo previsto na legislação Parágrafo Único: Reserva-se a EMPREGADORA o direito de proceder a transferência do empregado para outro cargo ou função que entenda que este demonstre melhor capacidade de adaptação desde que compatível com sua condição pessoal.  Cláusula 2  a  .  O local de trabalho do EMPREGADO será em quaisquer dos estabelecimentos da EMPREGADORA no território nacional, podendo ocorrer a transferência para outra localidade na forma da legislação.  Cláusula 3  a  : O EMPREGADO cumprirá o seguinte horário de trabalho     The following table: \"Dia da Semana \",\"Horário Entrada \",\"Início Intervalo \",\"Fim Intervalo \",\"Horário Saida \" \"Domingo \",\"Folga \",,, \"Segunda \",\"08.00.00 \",\"12:00:00 \",\"13.00 00 \",\"18.00.00 \" \"Terça \",\"08:00 00 \",\"12.00.00 \",\"13.00.00 \",\"18:00.00 \" \"Quarta \",\"08:00:00 \",\"12.00.00 \",\"13.00.00 \",\"18.00.00 \" \"Quinta \",\"08:00.00 \",\"12:00:00 \",\"13:00.00 \",\"18. 00 00 \" \"Sexta \",\"08.00:00 \",\"12.00.00 \",\"13.00.00 \",\"17.00.00 \" \"Sábado \",,,,  Horas p/semana: 44,00 Dia variável Não Tempo parcial Não é tempo parcial  Parágrafo Único: Se houver horas extras, estas serão pagas na forma da lei ou, ainda, compensadas com repouso correspondente, conforme determinação de convenção ou acordo coletivo de trabalho ou, ainda, acordo individual, se firmado.  Cláusula 4  a   O presente contrato tem caráter de experiência vigorando a partir da data de assinatura do presente contrato até 04/07/2024, em cujo termo estará extinto, sem que caiba a qualquer das partes aviso prévio ou indenização  Parágrafo 1  ∘   Este contrato poderá ser prorrogado uma única vez, observando o limite máximo referido no art.  445, parágrafo único da CLT.    Parágrafo 2  ∘   O presente contrato está respaldado pela cláusula assecuratória do direito reciproco de rescisão, prevista no art.  480 da CLT.    Parágrafo 3  ∘  : Conforme o art. 487, parágrafo 2  ∘   da CLT, o empregado que pedir demissão e não trouxer documento que comprove que achou outro emprego e/ou se recusar a trabalhar os 30 dias, poderá ter descontado o periodo do aviso prévio.  Cláusula 5  a   Permanecendo o EMPREGADO a serviço da EMPREGADORA após o término da experiência, continuarão em vigor as cláusulas deste instrumento, embora o contrato passe a vigorar por tempo indeterminado.  Página 1 de 2  Cláusula 6  ∘  : Caso o EMPREGADO faça uso de transporte regular público em seus deslocamentos residência/trabalho e vice-versa, deverá solicitar a EMPREGADORA, por escrito e contra-recibo, o fornecimento de vale-transporte.  Cláusula 7  ∘  , O EMPREGADO autoriza o desconto em seu salário das importâncias que lhe forem adiantadas pelo empregador, bem como aos descontos legais, de alimentação, habitação e vale transporte.  Parágrafo Único: O EMPREGADO, sempre que causar algum prejuizo ao empregador, resultante de qualquer conduta dolosa ou culposa, ficará obrigado a ressarcir a EMPREGADORA por todos os danos causados, pelo que, desde já, fica a EMPREGADORA, autorizada a efetivar o desconto da importância correspondente ao prejuízo, o qual fará, com fundamento no parágrafo 1  c   artigo 462 da CLT.  do      Cláusula 8  ∘  : O EMPREGADO compromete-se também a respeitar o Regulamento Interno da empresa e que a violação deste implicará em sanção, cuja graduação dependerá da gravidade da mesma, podendo culminar na rescisão do contrato de trabalho.  Cláusula 9  a  : Para fins de atendimento a Lei Geral de Proteção de Dados, o EMPREGADO tem ciência e manifesta o seu consentimento quanto ao uso de quaisquer de seus dados pessoais pelo EMPREGADOR, para que este faça uso destes nos procedimentos necessários durante a relação de emprego entre as partes, tais como a admissão, a manutenção da relação de emprego, o desligamento, a medicina ocupacional, a relação com planos de saúde, a manutenção de convênios com terceiros, ao cadastro e uso de biometria, as operações que envolvam informações bancária, a consulta em redes sociais, entre outros que envolvam a relação  de trabalho.     E, por estarem de pleno acordo, as partes assinam este instrumento em duas vias de igual teor na presença das testemunhas abaixo relacionadas.  CLOUD APOIO ADMINISTRATIVO LTDA  Novo Hamburgo, RS, 21 de maio de 2024.   mildchraga JAMILEH FLACH BRAGA  Testemunhas:  Nome:  CPF/RG:  Nome: CPF/RG  Página 2 de 2\n",
            "\n",
            "✨ Processando o contrato. Aguarde...\n",
            "\n",
            "--- 📝 Contrato Extraído ---\n"
          ]
        },
        {
          "output_type": "display_data",
          "data": {
            "text/plain": [
              "<IPython.core.display.Markdown object>"
            ],
            "text/markdown": "> Contrato de Trabalho por Experiência\n> \n> Por este instrumento particular, que entre si fazem CLOUD APOIO ADMINISTRATIVO LTDA, inscrita no CNPJ sob o n ∘ 48.772.069/0001-60, com sede à Avenida CORONEL TRAVASSOS, 1992 SALA 203, bairro BOA VISTA, município de Novo Hamburgo/RS, doravante denominada EMPREGADORA, e de outro lado JAMILEH FLACH BRAGA, brasileira, solteira, inscrito(a) no CPF sob o n ∘ 019.127.350-32, RG n ∘ e CTPS 0191273-5032/RS, residente e domiciliado(a) à Rua ASSIS CHATEAUBRIAND, 3, bairro LIBERDADE, município de Novo Hamburgo/RS, doravante denominado EMPREGADO, fica celebrado o presente CONTRATO DE TRABALHO EM CARÁTER DE EXPERIÊNCIA, de acordo com a legislação em vigor e as condições especificadas a seguir.\n> \n> Cláusula 1 a : Fica o EMPREGADO admitido no quadro de trabalhadores da EMPREGADORA para exercer o cargo de ANALISTA DE RH (CBO 252405), com remuneração de R$ 2.200,00 (dois mil, duzentos reais) por mês, a ser pago mensalmente até o prazo previsto na legislação\n> Parágrafo Único: Reserva-se a EMPREGADORA o direito de proceder a transferência do empregado para outro cargo ou função que entenda que este demonstre melhor capacidade de adaptação desde que compatível com sua condição pessoal.\n> \n> Cláusula 2 a . O local de trabalho do EMPREGADO será em quaisquer dos estabelecimentos da EMPREGADORA no território nacional, podendo ocorrer a transferência para outra localidade na forma da legislação.\n> \n> Cláusula 3 a : O EMPREGADO cumprirá o seguinte horário de trabalho\n> \n> Dia da Semana Horário Entrada Início Intervalo Fim Intervalo Horário Saida\n> Domingo Folga\n> Segunda 08.00.00 12:00:00 13.00 00 18.00.00\n> Terça 08:00 00 12.00.00 13.00.00 18:00.00\n> Quarta 08:00:00 12.00.00 13.00.00 18.00.00\n> Quinta 08:00.00 12:00:00 13:00.00 18. 00 00\n> Sexta 08.00:00 12.00.00 13.00.00 17.00.00\n> Sábado\n> \n> Horas p/semana: 44,00\n> Dia variável Não\n> Tempo parcial Não é tempo parcial\n> \n> Parágrafo Único: Se houver horas extras, estas serão pagas na forma da lei ou, ainda, compensadas com repouso correspondente, conforme determinação de convenção ou acordo coletivo de trabalho ou, ainda, acordo individual, se firmado.\n> \n> Cláusula 4 a O presente contrato tem caráter de experiência vigorando a partir da data de assinatura do presente contrato até 04/07/2024, em cujo termo estará extinto, sem que caiba a qualquer das partes aviso prévio ou indenização\n> \n> Parágrafo 1 ∘ Este contrato poderá ser prorrogado uma única vez, observando o limite máximo referido no art. 445, parágrafo único da CLT.\n> \n> Parágrafo 2 ∘ O presente contrato está respaldado pela cláusula assecuratória do direito reciproco de rescisão, prevista no art. 480 da CLT.\n> \n> Parágrafo 3 ∘ : Conforme o art. 487, parágrafo 2 ∘ da CLT, o empregado que pedir demissão e não trouxer documento que comprove que achou outro emprego e/ou se recusar a trabalhar os 30 dias, poderá ter descontado o período do aviso prévio.\n> \n> Cláusula 5 a Permanecendo o EMPREGADO a serviço da EMPREGADORA após o término da experiência, continuarão em vigor as cláusulas deste instrumento, embora o contrato passe a vigorar por tempo indeterminado.\n> \n> Cláusula 6 ∘ : Caso o EMPREGADO faça uso de transporte regular público em seus deslocamentos residência/trabalho e vice-versa, deverá solicitar a EMPREGADORA, por escrito e contra-recibo, o fornecimento de vale-transporte.\n> \n> Cláusula 7 ∘ , O EMPREGADO autoriza o desconto em seu salário das importâncias que lhe forem adiantadas pelo empregador, bem como aos descontos legais, de alimentação, habitação e vale transporte.\n> \n> Parágrafo Único: O EMPREGADO, sempre que causar algum prejuizo ao empregador, resultante de qualquer conduta dolosa ou culposa, ficará obrigado a ressarcir a EMPREGADORA por todos os danos causados, pelo que, desde já, fica a EMPREGADORA, autorizada a efetivar o desconto da importância correspondente ao prejuízo, o qual fará, com fundamento no parágrafo 1 c artigo 462 da CLT. do\n> \n> Cláusula 8 ∘ : O EMPREGADO compromete-se também a respeitar o Regulamento Interno da empresa e que a violação deste implicará em sanção, cuja graduação dependerá da gravidade da mesma, podendo culminar na rescisão do contrato de trabalho.\n> \n> Cláusula 9 a : Para fins de atendimento a Lei Geral de Proteção de Dados, o EMPREGADO tem ciência e manifesta o seu consentimento quanto ao uso de quaisquer de seus dados pessoais pelo EMPREGADOR, para que este faça uso destes nos procedimentos necessários durante a relação de emprego entre as partes, tais como a admissão, a manutenção da relação de emprego, o desligamento, a medicina ocupacional, a relação com planos de saúde, a manutenção de convênios com terceiros, ao cadastro e uso de biometria, as operações que envolvam informações bancária, a consulta em redes sociais, entre outros que envolvam a relação de trabalho.\n> \n> E, por estarem de pleno acordo, as partes assinam este instrumento em duas vias de igual teor na presença das testemunhas abaixo relacionadas.\n> \n> CLOUD APOIO ADMINISTRATIVO LTDA\n> \n> Novo Hamburgo, RS, 21 de maio de 2024.\n> \n> mildchraga\n> JAMILEH FLACH BRAGA\n> \n> Testemunhas:\n> \n> Nome:\n> CPF/RG:\n> Nome:\n> CPF/RG\n> \n> Este é um contrato de trabalho por experiência.\n> \n"
          },
          "metadata": {}
        },
        {
          "output_type": "stream",
          "name": "stdout",
          "text": [
            "-----------------------------\n",
            "\n",
            "--- 🔎 Jargões Identificados ---\n"
          ]
        },
        {
          "output_type": "display_data",
          "data": {
            "text/plain": [
              "<IPython.core.display.Markdown object>"
            ],
            "text/markdown": "> Com base no texto do contrato de trabalho por experiência fornecido, listo os seguintes jargões jurídicos e termos técnicos que podem ser desconhecidos por uma pessoa leiga:\n> \n> 1.  **\"Inscrita no CNPJ sob o n ∘...\"**: Refere-se ao Cadastro Nacional de Pessoas Jurídicas, um registro obrigatório para empresas no Brasil.\n> 2.  **\"Residente e domiciliado(a)\"**: Termo jurídico que indica o local onde a pessoa vive e é legalmente reconhecida como seu endereço principal.\n> 3.  **\"Contrato de Trabalho em Caráter de Experiência\"**: Tipo específico de contrato de trabalho com duração determinada.\n> 4.  **\"CBO 252405\"**: Classificação Brasileira de Ocupações, um código que padroniza e identifica a profissão do empregado.\n> 5.  **\"Legislação em vigor\"**: Refere-se às leis e normas atuais que regem as relações de trabalho.\n> 6.  **\"Território nacional\"**: Refere-se a todo o espaço geográfico do Brasil.\n> 7.  **\"Na forma da lei\"**: Significa que a ação deve seguir o que está determinado nas leis existentes.\n> 8.  **\"Horas extras\"**: Tempo de trabalho que excede a jornada normal estabelecida.\n> 9.  **\"Convenção ou acordo coletivo de trabalho\"**: Negociações entre sindicatos e empregadores que estabelecem condições de trabalho.\n> 10. **\"Aviso prévio\"**: Notificação antecipada de rescisão do contrato de trabalho.\n> 11. **\"Indenização\"**: Compensação financeira paga em caso de rescisão do contrato.\n> 12. **\"Art. 445, parágrafo único da CLT\"**: Artigo da Consolidação das Leis do Trabalho que trata da duração do contrato de experiência.\n> 13. **\"Cláusula assecuratória do direito reciproco de rescisão\"**: Permite a rescisão antecipada do contrato de experiência, garantindo direitos em caso de rompimento.\n> 14. **\"Art. 480 da CLT\"**: Artigo da Consolidação das Leis do Trabalho que trata da rescisão antecipada do contrato de experiência por parte do empregado.\n> 15. **\"Art. 487, parágrafo 2 ∘ da CLT\"**: Artigo da Consolidação das Leis do Trabalho que trata das consequências do não cumprimento do aviso prévio pelo empregado.\n> 16. **\"Vale-transporte\"**: Benefício pago para custear o deslocamento do empregado entre residência e trabalho.\n> 17. **\"Conduta dolosa ou culposa\"**: Ações intencionais (dolosa) ou por negligência (culposa) que causam prejuízo.\n> 18. **\"Ressarcir\"**: Compensar ou indenizar por um dano ou prejuízo causado.\n> 19. **\"Artigo 462 da CLT\"**: Artigo da Consolidação das Leis do Trabalho que trata dos descontos permitidos no salário.\n> 20. **\"Regulamento Interno\"**: Conjunto de normas e regras estabelecidas pela empresa.\n> 21. **\"Rescisão do contrato de trabalho\"**: Encerramento do contrato de trabalho.\n> 22. **\"Lei Geral de Proteção de Dados\"**: Lei que regulamenta o tratamento de dados pessoais.\n> 23. **\"Relação de emprego entre as partes\"**: Refere-se ao vínculo empregatício entre empregador e empregado.\n> 24. **\"Medicina ocupacional\"**: Área da medicina que cuida da saúde dos trabalhadores.\n> \n> \n"
          },
          "metadata": {}
        },
        {
          "output_type": "stream",
          "name": "stdout",
          "text": [
            "-------------------------------\n",
            "\n",
            "--- 💡 Explicações dos Termos ---\n"
          ]
        },
        {
          "output_type": "display_data",
          "data": {
            "text/plain": [
              "<IPython.core.display.Markdown object>"
            ],
            "text/markdown": "> Ok, aqui estão as explicações dos termos jurídicos e técnicos que você listou, de forma clara e acessível:\n> \n> 1.  **\"Inscrita no CNPJ sob o n ∘...\"**: É como se fosse o \"RG\" da empresa. O CNPJ é um número que identifica a empresa perante a Receita Federal e garante que ela está regularizada para exercer suas atividades.\n> 2.  **\"Residente e domiciliado(a)\"**: Significa o endereço oficial da pessoa, onde ela mora e é encontrada para questões legais. É como se fosse o endereço que vale para tudo, desde receber contas até ser notificado pela justiça.\n> 3.  **\"Contrato de Trabalho em Caráter de Experiência\"**: É um contrato por tempo limitado, geralmente de 90 dias, que serve para o empregador e o empregado se conhecerem melhor. É como um \"test drive\" antes de uma possível contratação definitiva.\n> 4.  **\"CBO 252405\"**: É um código que diz qual é a sua profissão. Imagine que cada profissão tem um número para ser identificada facilmente em cadastros e documentos oficiais.\n> 5.  **\"Legislação em vigor\"**: São as leis que estão valendo atualmente e que devem ser seguidas. É como se fossem as \"regras do jogo\" que todos devem cumprir.\n> 6.  **\"Território nacional\"**: É todo o espaço geográfico do Brasil, incluindo terras, águas e espaço aéreo. É como se fosse o \"país inteiro\".\n> 7.  **\"Na forma da lei\"**: Quer dizer que algo deve ser feito seguindo exatamente o que as leis dizem. É como seguir as instruções de um manual para não fazer errado.\n> 8.  **\"Horas extras\"**: São as horas trabalhadas além da jornada normal. Se você trabalha mais do que o combinado, essas horas a mais são chamadas de horas extras e devem ser pagas com um valor adicional.\n> 9.  **\"Convenção ou acordo coletivo de trabalho\"**: São acordos feitos entre os sindicatos dos trabalhadores e as empresas para definir regras sobre salários, benefícios e condições de trabalho. É como se fosse um \"contrato\" feito para toda uma categoria de trabalhadores.\n> 10. **\"Aviso prévio\"**: É uma comunicação antecipada da intenção de rescindir o contrato de trabalho. Se a empresa vai te demitir ou você vai pedir demissão, é preciso avisar com antecedência, que geralmente é de 30 dias.\n> 11. **\"Indenização\"**: É um valor pago para compensar um dano ou prejuízo. Por exemplo, se você é demitido sem justa causa, pode ter direito a uma indenização.\n> 12. **\"Art. 445, parágrafo único da CLT\"**: É um artigo da lei que diz que o contrato de experiência não pode durar mais que 2 anos. É como se fosse o limite máximo de tempo para esse tipo de contrato.\n> 13. **\"Cláusula assecuratória do direito reciproco de rescisão\"**: É uma permissão para que o contrato de experiência seja terminado antes do prazo, tanto pelo empregador quanto pelo empregado, garantindo alguns direitos.\n> 14. **\"Art. 480 da CLT\"**: É um artigo da lei que fala sobre o que acontece se o empregado pedir demissão antes do fim do contrato de experiência. Nesse caso, ele pode ter que pagar uma indenização para a empresa.\n> 15. **\"Art. 487, parágrafo 2 ∘ da CLT\"**: É um artigo da lei que fala sobre o que acontece se o empregado não cumprir o aviso prévio. Nesse caso, ele pode ter o valor correspondente aos dias não trabalhados descontado do seu salário.\n> 16. **\"Vale-transporte\"**: É um benefício pago pelo empregador para ajudar o empregado a pagar as despesas com transporte entre a casa e o trabalho.\n> 17. **\"Conduta dolosa ou culposa\"**: É quando alguém faz algo de propósito (dolosa) ou por falta de cuidado (culposa) que causa um prejuízo. É como se fosse uma ação errada que pode ter consequências.\n> 18. **\"Ressarcir\"**: Significa pagar de volta ou compensar um prejuízo que você causou. É como se fosse \"reparar o estrago\".\n> 19. **\"Artigo 462 da CLT\"**: É um artigo da lei que diz quais são os descontos que podem ser feitos no salário do empregado, como, por exemplo, o INSS e o imposto de renda.\n> 20. **\"Regulamento Interno\"**: É um conjunto de regras da empresa que todos os empregados devem seguir. É como se fosse um \"manual de conduta\" da empresa.\n> 21. **\"Rescisão do contrato de trabalho\"**: É o término do contrato de trabalho, seja por demissão, pedido de demissão ou outro motivo.\n> 22. **\"Lei Geral de Proteção de Dados\"**: É uma lei que protege os seus dados pessoais e diz como as empresas podem usá-los. É como se fosse uma \"guarda-costas\" dos seus dados.\n> 23. **\"Relação de emprego entre as partes\"**: É o vínculo entre o empregador e o empregado, que é regido pelas leis trabalhistas.\n> 24. **\"Medicina ocupacional\"**: É a área da medicina que cuida da saúde dos trabalhadores, prevenindo doenças e acidentes no trabalho.\n> \n> Espero que estas explicações tenham sido úteis!\n> \n"
          },
          "metadata": {}
        },
        {
          "output_type": "stream",
          "name": "stdout",
          "text": [
            "---------------------------------\n",
            "\n",
            "--- 🔑 Resumo e Pontos Chave do Contrato ---\n"
          ]
        },
        {
          "output_type": "display_data",
          "data": {
            "text/plain": [
              "<IPython.core.display.Markdown object>"
            ],
            "text/markdown": "> ## Resumo do Contrato de Trabalho por Experiência\n> \n> Este contrato define os termos do emprego de Jamileh Flach Braga como Analista de RH na CLOUD APOIO ADMINISTRATIVO LTDA. O contrato é por experiência, com duração determinada, e estabelece o salário, horário de trabalho, local de trabalho e outras condições importantes.\n> \n> ## Pontos Chave do Contrato\n> \n> *   **Objeto do Contrato:** Contratação de Jamileh Flach Braga como Analista de RH.\n> *   **Empregador:** CLOUD APOIO ADMINISTRATIVO LTDA.\n> *   **Empregado:** Jamileh Flach Braga.\n> *   **Cargo:** Analista de RH (CBO 252405).\n> *   **Salário:** R$ 2.200,00 por mês.\n> *   **Duração do Contrato:** A partir de 21 de maio de 2024 até 04 de julho de 2024.\n>     *   Possibilidade de prorrogação por mais um período.\n> *   **Horário de Trabalho:**\n>     *   Segunda a Quinta: 08:00 às 12:00 e 13:00 às 18:00.\n>     *   Sexta: 08:00 às 12:00 e 13:00 às 17:00.\n>     *   Total de 44 horas semanais.\n> *   **Local de Trabalho:** Qualquer estabelecimento da empregadora no território nacional.\n> *   **Obrigações do Empregado:**\n>     *   Cumprir o horário de trabalho.\n>     *   Respeitar o regulamento interno da empresa.\n>     *   Informar necessidade de vale-transporte.\n>     *   Ressarcir a empresa por prejuízos causados por conduta dolosa ou culposa.\n> *   **Rescisão:**\n>     *   O contrato se extinguirá automaticamente ao final do período de experiência (04/07/2024).\n>     *   Caso o empregado peça demissão antes do prazo, poderá ter descontado o valor correspondente ao aviso prévio, caso não comprove ter outro emprego ou se recuse a trabalhar durante o período do aviso.\n> *   **Autorizações:** O empregado autoriza descontos no salário referentes a adiantamentos, descontos legais, alimentação, habitação, vale-transporte e prejuízos causados à empresa. Também autoriza o uso de seus dados pessoais pela empresa para fins relacionados ao contrato de trabalho, conforme a Lei Geral de Proteção de Dados (LGPD).\n"
          },
          "metadata": {}
        },
        {
          "output_type": "stream",
          "name": "stdout",
          "text": [
            "-------------------------------------------\n",
            "\n",
            "✅ Análise do Contrato Concluída!\n"
          ]
        }
      ]
    }
  ]
}